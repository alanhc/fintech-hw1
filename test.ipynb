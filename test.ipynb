{
 "cells": [
  {
   "cell_type": "code",
   "execution_count": 112,
   "id": "d05e6c57",
   "metadata": {},
   "outputs": [],
   "source": [
    "from xgboost import XGBClassifier\n",
    "from sklearn.model_selection import StratifiedKFold\n",
    "from sklearn.model_selection import RandomizedSearchCV, GridSearchCV\n",
    "from sklearn.svm import SVC, LinearSVC\n",
    "from datetime import datetime\n",
    "from imblearn.pipeline import Pipeline\n",
    "from imblearn.over_sampling import SMOTE, ADASYN \n",
    "from imblearn.under_sampling import RandomUnderSampler\n",
    "from sklearn.preprocessing import StandardScaler\n",
    "from sklearn.ensemble import RandomForestClassifier, VotingClassifier, BaggingClassifier, ExtraTreesClassifier, AdaBoostClassifier, GradientBoostingClassifier,HistGradientBoostingClassifier, StackingClassifier\n",
    "from lightgbm import LGBMClassifier\n",
    "from scipy.stats import randint as sp_randint\n",
    "from scipy.stats import uniform as sp_uniform\n",
    "from sklearn.feature_selection import SelectFromModel\n",
    "from sklearn.linear_model import LogisticRegression, Lasso, RidgeCV, SGDClassifier\n",
    "from sklearn.preprocessing import PolynomialFeatures\n",
    "from sklearn.decomposition import PCA, KernelPCA\n",
    "from sklearn.neighbors import KNeighborsClassifier\n",
    "from sklearn.neural_network import MLPClassifier"
   ]
  },
  {
   "cell_type": "code",
   "execution_count": 65,
   "id": "b93f3db3",
   "metadata": {},
   "outputs": [],
   "source": [
    "import warnings\n",
    "warnings.filterwarnings('ignore')"
   ]
  },
  {
   "cell_type": "code",
   "execution_count": 113,
   "id": "39e56750",
   "metadata": {
    "scrolled": false
   },
   "outputs": [
    {
     "data": {
      "text/html": [
       "<div>\n",
       "<style scoped>\n",
       "    .dataframe tbody tr th:only-of-type {\n",
       "        vertical-align: middle;\n",
       "    }\n",
       "\n",
       "    .dataframe tbody tr th {\n",
       "        vertical-align: top;\n",
       "    }\n",
       "\n",
       "    .dataframe thead th {\n",
       "        text-align: right;\n",
       "    }\n",
       "</style>\n",
       "<table border=\"1\" class=\"dataframe\">\n",
       "  <thead>\n",
       "    <tr style=\"text-align: right;\">\n",
       "      <th></th>\n",
       "      <th>age</th>\n",
       "      <th>euducation_level</th>\n",
       "      <th>job</th>\n",
       "      <th>marital</th>\n",
       "      <th>have_credit_card</th>\n",
       "      <th>have_housing_loan</th>\n",
       "      <th>have_personal_loan</th>\n",
       "      <th>connect_method</th>\n",
       "      <th>previous_connect_month</th>\n",
       "      <th>previous_connect_weekday</th>\n",
       "      <th>campaign_connect_times</th>\n",
       "      <th>after_campaign_connect_day</th>\n",
       "      <th>before_campaign_connect_times</th>\n",
       "      <th>last_campaign_outcomes</th>\n",
       "      <th>employment_rate</th>\n",
       "      <th>consumer_price_index</th>\n",
       "      <th>consumer_confidence_index</th>\n",
       "      <th>label</th>\n",
       "    </tr>\n",
       "    <tr>\n",
       "      <th>index</th>\n",
       "      <th></th>\n",
       "      <th></th>\n",
       "      <th></th>\n",
       "      <th></th>\n",
       "      <th></th>\n",
       "      <th></th>\n",
       "      <th></th>\n",
       "      <th></th>\n",
       "      <th></th>\n",
       "      <th></th>\n",
       "      <th></th>\n",
       "      <th></th>\n",
       "      <th></th>\n",
       "      <th></th>\n",
       "      <th></th>\n",
       "      <th></th>\n",
       "      <th></th>\n",
       "      <th></th>\n",
       "    </tr>\n",
       "  </thead>\n",
       "  <tbody>\n",
       "    <tr>\n",
       "      <th>0</th>\n",
       "      <td>39.0</td>\n",
       "      <td>high</td>\n",
       "      <td>employment</td>\n",
       "      <td>married</td>\n",
       "      <td>no</td>\n",
       "      <td>no</td>\n",
       "      <td>no</td>\n",
       "      <td>cellular</td>\n",
       "      <td>November</td>\n",
       "      <td>Tuesday</td>\n",
       "      <td>1.0</td>\n",
       "      <td>-1.0</td>\n",
       "      <td>0.0</td>\n",
       "      <td>nonexistent</td>\n",
       "      <td>59.9</td>\n",
       "      <td>93.2</td>\n",
       "      <td>-42.0</td>\n",
       "      <td>0</td>\n",
       "    </tr>\n",
       "  </tbody>\n",
       "</table>\n",
       "</div>"
      ],
      "text/plain": [
       "        age euducation_level         job  marital have_credit_card  \\\n",
       "index                                                                \n",
       "0      39.0             high  employment  married               no   \n",
       "\n",
       "      have_housing_loan have_personal_loan connect_method  \\\n",
       "index                                                       \n",
       "0                    no                 no       cellular   \n",
       "\n",
       "      previous_connect_month previous_connect_weekday  campaign_connect_times  \\\n",
       "index                                                                           \n",
       "0                   November                  Tuesday                     1.0   \n",
       "\n",
       "       after_campaign_connect_day  before_campaign_connect_times  \\\n",
       "index                                                              \n",
       "0                            -1.0                            0.0   \n",
       "\n",
       "      last_campaign_outcomes  employment_rate  consumer_price_index  \\\n",
       "index                                                                 \n",
       "0                nonexistent             59.9                  93.2   \n",
       "\n",
       "       consumer_confidence_index  label  \n",
       "index                                    \n",
       "0                          -42.0      0  "
      ]
     },
     "execution_count": 113,
     "metadata": {},
     "output_type": "execute_result"
    }
   ],
   "source": [
    "import glob\n",
    "import os\n",
    "import pandas as pd\n",
    "from utils.data import *\n",
    "from utils.evaluation import *\n",
    "\n",
    "df = pd.read_csv(\"ntu-fintech-hw1-new/train.csv\", index_col=[\"index\"])\n",
    "df.head(1)"
   ]
  },
  {
   "cell_type": "code",
   "execution_count": 114,
   "id": "722d9901",
   "metadata": {},
   "outputs": [
    {
     "name": "stdout",
     "output_type": "stream",
     "text": [
      "(20000, 17) (20000,)\n"
     ]
    },
    {
     "data": {
      "text/html": [
       "<div>\n",
       "<style scoped>\n",
       "    .dataframe tbody tr th:only-of-type {\n",
       "        vertical-align: middle;\n",
       "    }\n",
       "\n",
       "    .dataframe tbody tr th {\n",
       "        vertical-align: top;\n",
       "    }\n",
       "\n",
       "    .dataframe thead th {\n",
       "        text-align: right;\n",
       "    }\n",
       "</style>\n",
       "<table border=\"1\" class=\"dataframe\">\n",
       "  <thead>\n",
       "    <tr style=\"text-align: right;\">\n",
       "      <th></th>\n",
       "      <th>age</th>\n",
       "      <th>euducation_level</th>\n",
       "      <th>job</th>\n",
       "      <th>marital</th>\n",
       "      <th>have_credit_card</th>\n",
       "      <th>have_housing_loan</th>\n",
       "      <th>have_personal_loan</th>\n",
       "      <th>connect_method</th>\n",
       "      <th>previous_connect_month</th>\n",
       "      <th>previous_connect_weekday</th>\n",
       "      <th>campaign_connect_times</th>\n",
       "      <th>after_campaign_connect_day</th>\n",
       "      <th>before_campaign_connect_times</th>\n",
       "      <th>last_campaign_outcomes</th>\n",
       "      <th>employment_rate</th>\n",
       "      <th>consumer_price_index</th>\n",
       "      <th>consumer_confidence_index</th>\n",
       "    </tr>\n",
       "    <tr>\n",
       "      <th>index</th>\n",
       "      <th></th>\n",
       "      <th></th>\n",
       "      <th></th>\n",
       "      <th></th>\n",
       "      <th></th>\n",
       "      <th></th>\n",
       "      <th></th>\n",
       "      <th></th>\n",
       "      <th></th>\n",
       "      <th></th>\n",
       "      <th></th>\n",
       "      <th></th>\n",
       "      <th></th>\n",
       "      <th></th>\n",
       "      <th></th>\n",
       "      <th></th>\n",
       "      <th></th>\n",
       "    </tr>\n",
       "  </thead>\n",
       "  <tbody>\n",
       "    <tr>\n",
       "      <th>0</th>\n",
       "      <td>21</td>\n",
       "      <td>0</td>\n",
       "      <td>0</td>\n",
       "      <td>1</td>\n",
       "      <td>0</td>\n",
       "      <td>0</td>\n",
       "      <td>0</td>\n",
       "      <td>0</td>\n",
       "      <td>7</td>\n",
       "      <td>3</td>\n",
       "      <td>0</td>\n",
       "      <td>1</td>\n",
       "      <td>0</td>\n",
       "      <td>1</td>\n",
       "      <td>7</td>\n",
       "      <td>11</td>\n",
       "      <td>7</td>\n",
       "    </tr>\n",
       "  </tbody>\n",
       "</table>\n",
       "</div>"
      ],
      "text/plain": [
       "       age  euducation_level  job  marital  have_credit_card  \\\n",
       "index                                                          \n",
       "0       21                 0    0        1                 0   \n",
       "\n",
       "       have_housing_loan  have_personal_loan  connect_method  \\\n",
       "index                                                          \n",
       "0                      0                   0               0   \n",
       "\n",
       "       previous_connect_month  previous_connect_weekday  \\\n",
       "index                                                     \n",
       "0                           7                         3   \n",
       "\n",
       "       campaign_connect_times  after_campaign_connect_day  \\\n",
       "index                                                       \n",
       "0                           0                           1   \n",
       "\n",
       "       before_campaign_connect_times  last_campaign_outcomes  employment_rate  \\\n",
       "index                                                                           \n",
       "0                                  0                       1                7   \n",
       "\n",
       "       consumer_price_index  consumer_confidence_index  \n",
       "index                                                   \n",
       "0                        11                          7  "
      ]
     },
     "execution_count": 114,
     "metadata": {},
     "output_type": "execute_result"
    }
   ],
   "source": [
    "# preprocessing\n",
    "## NaN\n",
    "#df = df.dropna(axis=0)\n",
    "#df = fill_nan_with_mean_most(df)\n",
    "df = df.fillna(df.rolling(2, min_periods=1).sum().mean())\n",
    "\n",
    "\n",
    "## label\n",
    "#df = labeling(df)\n",
    "for feature in df.columns:\n",
    "    df[feature] = labelencoder.fit_transform(df[feature])\n",
    "\n",
    "\n",
    "#df =  preprocessing_only_label(df)\n",
    "#X =  preprocessing_onehot(X)\n",
    "#df =  preprocessing_mean_mode(df)\n",
    "\n",
    "X = df.drop(['label'],axis=1)\n",
    "y = df['label']\n",
    "print(X.shape, y.shape)\n",
    "X.head(1)"
   ]
  },
  {
   "cell_type": "code",
   "execution_count": 68,
   "id": "38738d4b",
   "metadata": {},
   "outputs": [
    {
     "name": "stdout",
     "output_type": "stream",
     "text": [
      "0.84915 0.15085\n"
     ]
    }
   ],
   "source": [
    "ct = np.unique(y, return_counts=True)[1]\n",
    "print(ct[0]/ct.sum(), ct[1]/ct.sum())"
   ]
  },
  {
   "cell_type": "code",
   "execution_count": 115,
   "id": "92fdfc28",
   "metadata": {},
   "outputs": [
    {
     "name": "stdout",
     "output_type": "stream",
     "text": [
      "(6000, 17) (14000, 17) (6000,) (14000,)\n"
     ]
    },
    {
     "data": {
      "text/html": [
       "<div>\n",
       "<style scoped>\n",
       "    .dataframe tbody tr th:only-of-type {\n",
       "        vertical-align: middle;\n",
       "    }\n",
       "\n",
       "    .dataframe tbody tr th {\n",
       "        vertical-align: top;\n",
       "    }\n",
       "\n",
       "    .dataframe thead th {\n",
       "        text-align: right;\n",
       "    }\n",
       "</style>\n",
       "<table border=\"1\" class=\"dataframe\">\n",
       "  <thead>\n",
       "    <tr style=\"text-align: right;\">\n",
       "      <th></th>\n",
       "      <th>age</th>\n",
       "      <th>euducation_level</th>\n",
       "      <th>job</th>\n",
       "      <th>marital</th>\n",
       "      <th>have_credit_card</th>\n",
       "      <th>have_housing_loan</th>\n",
       "      <th>have_personal_loan</th>\n",
       "      <th>connect_method</th>\n",
       "      <th>previous_connect_month</th>\n",
       "      <th>previous_connect_weekday</th>\n",
       "      <th>campaign_connect_times</th>\n",
       "      <th>after_campaign_connect_day</th>\n",
       "      <th>before_campaign_connect_times</th>\n",
       "      <th>last_campaign_outcomes</th>\n",
       "      <th>employment_rate</th>\n",
       "      <th>consumer_price_index</th>\n",
       "      <th>consumer_confidence_index</th>\n",
       "    </tr>\n",
       "    <tr>\n",
       "      <th>index</th>\n",
       "      <th></th>\n",
       "      <th></th>\n",
       "      <th></th>\n",
       "      <th></th>\n",
       "      <th></th>\n",
       "      <th></th>\n",
       "      <th></th>\n",
       "      <th></th>\n",
       "      <th></th>\n",
       "      <th></th>\n",
       "      <th></th>\n",
       "      <th></th>\n",
       "      <th></th>\n",
       "      <th></th>\n",
       "      <th></th>\n",
       "      <th></th>\n",
       "      <th></th>\n",
       "    </tr>\n",
       "  </thead>\n",
       "  <tbody>\n",
       "    <tr>\n",
       "      <th>12950</th>\n",
       "      <td>39</td>\n",
       "      <td>0</td>\n",
       "      <td>0</td>\n",
       "      <td>1</td>\n",
       "      <td>0</td>\n",
       "      <td>0</td>\n",
       "      <td>0</td>\n",
       "      <td>0</td>\n",
       "      <td>0</td>\n",
       "      <td>1</td>\n",
       "      <td>1</td>\n",
       "      <td>1</td>\n",
       "      <td>0</td>\n",
       "      <td>1</td>\n",
       "      <td>3</td>\n",
       "      <td>10</td>\n",
       "      <td>3</td>\n",
       "    </tr>\n",
       "  </tbody>\n",
       "</table>\n",
       "</div>"
      ],
      "text/plain": [
       "       age  euducation_level  job  marital  have_credit_card  \\\n",
       "index                                                          \n",
       "12950   39                 0    0        1                 0   \n",
       "\n",
       "       have_housing_loan  have_personal_loan  connect_method  \\\n",
       "index                                                          \n",
       "12950                  0                   0               0   \n",
       "\n",
       "       previous_connect_month  previous_connect_weekday  \\\n",
       "index                                                     \n",
       "12950                       0                         1   \n",
       "\n",
       "       campaign_connect_times  after_campaign_connect_day  \\\n",
       "index                                                       \n",
       "12950                       1                           1   \n",
       "\n",
       "       before_campaign_connect_times  last_campaign_outcomes  employment_rate  \\\n",
       "index                                                                           \n",
       "12950                              0                       1                3   \n",
       "\n",
       "       consumer_price_index  consumer_confidence_index  \n",
       "index                                                   \n",
       "12950                    10                          3  "
      ]
     },
     "execution_count": 115,
     "metadata": {},
     "output_type": "execute_result"
    }
   ],
   "source": [
    "from sklearn.model_selection import train_test_split\n",
    "X_train, X_test, y_train, y_test = train_test_split(X,y,test_size=0.7)\n",
    "print(X_train.shape, X_test.shape, y_train.shape, y_test.shape)\n",
    "X_train.head(1)"
   ]
  },
  {
   "cell_type": "code",
   "execution_count": 116,
   "id": "f23f87fa",
   "metadata": {},
   "outputs": [
    {
     "data": {
      "image/png": "[encoded data removed]",
      "text/plain": [
       "<Figure size 432x288 with 1 Axes>"
      ]
     },
     "metadata": {
      "needs_background": "light"
     },
     "output_type": "display_data"
    }
   ],
   "source": [
    "from sklearn.linear_model import LassoCV\n",
    "lasso = LassoCV().fit(X_train, y_train)\n",
    "importance = np.abs(lasso.coef_)\n",
    "threshold = np.sort(importance)[-17] +0.001\n",
    "sfm = SelectFromModel(lasso, threshold=threshold).fit(X, y)\n",
    "plt.bar(height=importance, x=X_train.columns)\n",
    "plt.title(\"Feature importances via coefficients\")\n",
    "plt.show()"
   ]
  },
  {
   "cell_type": "code",
   "execution_count": 117,
   "id": "da8e8e6d",
   "metadata": {},
   "outputs": [
    {
     "data": {
      "text/plain": [
       "array([0.00044685, 0.00065276, 0.00213552, 0.00637511, 0.00645856,\n",
       "       0.00757491, 0.00759717, 0.00761405, 0.00796632, 0.01098545,\n",
       "       0.01376085, 0.01656445, 0.02918357, 0.05271984, 0.09272907,\n",
       "       0.11345813, 0.22103433])"
      ]
     },
     "execution_count": 117,
     "metadata": {},
     "output_type": "execute_result"
    }
   ],
   "source": [
    "np.sort(importance)"
   ]
  },
  {
   "cell_type": "code",
   "execution_count": 118,
   "id": "3ddb5adc",
   "metadata": {
    "scrolled": true
   },
   "outputs": [
    {
     "data": {
      "text/plain": [
       "0.0004468505512370985"
      ]
     },
     "execution_count": 118,
     "metadata": {},
     "output_type": "execute_result"
    }
   ],
   "source": [
    "np.sort(importance)[-17] "
   ]
  },
  {
   "cell_type": "code",
   "execution_count": 119,
   "id": "2597023a",
   "metadata": {},
   "outputs": [
    {
     "data": {
      "text/plain": [
       "0.0014468505512370985"
      ]
     },
     "execution_count": 119,
     "metadata": {},
     "output_type": "execute_result"
    }
   ],
   "source": [
    "threshold"
   ]
  },
  {
   "cell_type": "code",
   "execution_count": 120,
   "id": "8e3fbf42",
   "metadata": {},
   "outputs": [],
   "source": [
    "def timer(start_time=None):\n",
    "    if not start_time:\n",
    "        start_time = datetime.now()\n",
    "        return start_time\n",
    "    elif start_time:\n",
    "        thour, temp_sec = divmod((datetime.now() - start_time).total_seconds(), 3600)\n",
    "        tmin, tsec = divmod(temp_sec, 60)\n",
    "        print('\\n Time taken: %i hours %i minutes and %s seconds.' % (thour, tmin, round(tsec, 2)))\n"
   ]
  },
  {
   "cell_type": "code",
   "execution_count": 121,
   "id": "728bcc84",
   "metadata": {},
   "outputs": [
    {
     "name": "stdout",
     "output_type": "stream",
     "text": [
      "(6000, 17)\n"
     ]
    }
   ],
   "source": [
    "#X_train = X\n",
    "#y_train=y\n",
    "print(X_train.shape)"
   ]
  },
  {
   "cell_type": "code",
   "execution_count": 123,
   "id": "e1e13fc8",
   "metadata": {},
   "outputs": [
    {
     "name": "stdout",
     "output_type": "stream",
     "text": [
      "Fitting 3 folds for each of 1 candidates, totalling 3 fits\n",
      "[22:37:00] WARNING: C:/Users/Administrator/workspace/xgboost-win64_release_1.5.0/src/learner.cc:1115: Starting in XGBoost 1.3.0, the default evaluation metric used with the objective 'binary:logistic' was changed from 'error' to 'logloss'. Explicitly set eval_metric if you'd like to restore the old behavior.\n",
      "\n",
      " Time taken: 0 hours 0 minutes and 1.05 seconds.\n"
     ]
    }
   ],
   "source": [
    "\n",
    "params={}\n",
    "\"\"\"params={\"LogisticRegression__C\":np.logspace(-3,3,7), \"LogisticRegression__penalty\":[\"l1\",\"l2\"]}# l1 lasso l2 ridge\"\"\"\n",
    "\"\"\"params ={'LGBMClassifier__num_leaves': sp_randint(6, 50), \n",
    "             'LGBMClassifier__min_child_samples': np.linspace(90,150,10).astype(\"int\"),#sp_randint(100, 500), \n",
    "             'LGBMClassifier__min_child_weight': [1e-7, 1e-4, 1e-5, 1e-3],\n",
    "             'LGBMClassifier__subsample': np.linspace(0.1,0.6,10), \n",
    "             'LGBMClassifier__colsample_bytree': sp_uniform(loc=0.5, scale=0.6),\n",
    "             'LGBMClassifier__reg_alpha': [0,1,2,3,4,5],\n",
    "             'LGBMClassifier__reg_lambda': [10,15,20,25,30]}\"\"\"\n",
    "\"\"\"params ={'LGBMClassifier__num_leaves': sp_randint(6, 50), \n",
    "             'LGBMClassifier__min_child_samples': sp_randint(100, 500), \n",
    "             'LGBMClassifier__min_child_weight': [1e-5, 1e-3, 1e-2, 1e-1, 1, 1e1, 1e2, 1e3, 1e4],\n",
    "             'LGBMClassifier__subsample': sp_uniform(loc=0.2, scale=0.9), \n",
    "             'LGBMClassifier__colsample_bytree': sp_uniform(loc=0.5, scale=0.6),\n",
    "             'LGBMClassifier__reg_alpha': [0, 1e-1, 1, 2, 5, 7, 10, 50, 100],\n",
    "             'LGBMClassifier__reg_lambda': [0, 1e-1, 1, 5, 10, 20, 50, 100],\n",
    "            'LGBMClassifier__learning_rate':[1e-2, 1e-3, 1e-4, 1e-5],\n",
    "           'LGBMClassifier__boosting_type':[\"gbdt\", \"dart\"],\n",
    "          \n",
    "        }\"\"\"\n",
    "\n",
    "\"\"\"params={}\"\"\"\n",
    "\n",
    "\"\"\"params ={'LGBMClassifier__num_leaves': np.linspace(1,100,20).astype(int), \n",
    "             'LGBMClassifier__min_child_samples':  np.linspace(10,3000,20).astype(int), \n",
    "             'LGBMClassifier__min_child_weight': np.linspace(1e-9,1e9,20),\n",
    "             'LGBMClassifier__subsample': sp_uniform(loc=0.3, scale=0.5), \n",
    "             'LGBMClassifier__colsample_bytree': sp_uniform(loc=0.5, scale=0.6),\n",
    "             'LGBMClassifier__reg_alpha': [0, 1e-1, 1, 2, 5, 7, 10, 50, 100],\n",
    "             'LGBMClassifier__reg_lambda': [0, 1e-1, 1, 5, 10, 20, 50, 100]}\"\"\"\n",
    "\"\"\"params = {\n",
    "        'XGBClassifier__min_child_weight': np.linspace(1e-2,1e2,10),\n",
    "        'XGBClassifier__gamma': [0.01, 0.25, 0.5, 1, 1.25, 1.5, 2,3],\n",
    "        'XGBClassifier__subsample': np.linspace(0.2,1,10),\n",
    "        'XGBClassifier__colsample_bytree': np.linspace(0.2,1,10),\n",
    "        'XGBClassifier__max_depth': [2, 3, 4, 5, 6, 7,8],\n",
    "        'XGBClassifier__early_stopping_rounds':[10,15,20, 30],\n",
    "        'XGBClassifier__eta':[2,1.5, 1,0.75,0.5,0.25, 0.01],\n",
    "        'XGBClassifier__n_estimators':np.linspace(100,500,20).astype(\"int\")\n",
    "        }\"\"\"\n",
    "\"\"\"params = {'SVC__kernel':['rbf'],\n",
    "              'SVC__C':[0.1,1,100,10e5], \n",
    "              'SVC__gamma':np.linspace(1e-5,0.5, 5),\n",
    "             'SVC__probability':[True],\n",
    "             }\"\"\"\n",
    "\"\"\"params = { \n",
    "    'RandomForestClassifier__n_estimators': [100, 200,300, 500,1000],\n",
    "    'RandomForestClassifier__max_features': ['auto', 'sqrt', 'log2'],\n",
    "    'RandomForestClassifier__max_depth' : [2,3,5,7],\n",
    "    'RandomForestClassifier__criterion' :['gini', 'entropy']\n",
    "}\"\"\"\n",
    "\"\"\"params = {'boosting_type': 'gbdt', 'max_depth': -1, 'objective': 'binary', \n",
    "          'num_leaves': 64, 'learning_rate': 0.05, 'max_bin': 512, \n",
    "          'subsample_for_bin': 200, 'subsample': 1, 'subsample_freq': 1,\n",
    "          'colsample_bytree': 0.8, 'reg_alpha': 5, 'reg_lambda': 10, \n",
    "          'min_split_gain': 0.5, 'min_child_weight': 1, \n",
    "          'min_child_samples': 5, 'scale_pos_weight': 1, 'num_class': 1, \n",
    "          'metric': 'binary_error'}\"\"\"\n",
    "\"\"\"params = {\n",
    "    \"SGDClassifier__loss\" : [\"hinge\", \"log\", \"squared_hinge\", \"modified_huber\"],\n",
    "    \"SGDClassifier__alpha\" : [0.0001, 0.001, 0.01, 0.1],\n",
    "    \"SGDClassifier__penalty\" : [\"l2\", \"l1\", \"none\"],\n",
    "}\"\"\"\n",
    "\"\"\"params = {'AdaBoostClassifier__n_estimators':[500, 1000, 1500, 2000], \n",
    "              'AdaBoostClassifier__learning_rate':[0.05, 0.1, 0.15, 0.2]}\"\"\"\n",
    "\"\"\"params = {\n",
    " \"HistGradientBoostingClassifier__max_iter\": [1000,1200,1500],\n",
    " \"HistGradientBoostingClassifier__learning_rate\": [0.1],\n",
    " \"HistGradientBoostingClassifier__max_depth\" : [25, 50, 75],\n",
    " \"HistGradientBoostingClassifier__l2_regularization\": [1.5],\n",
    " \"HistGradientBoostingClassifier__scoring\": [\"f1_micro\"],\n",
    " \"HistGradientBoostingClassifier__random_state\" : [0],\n",
    " }\"\"\"\n",
    "\"\"\"params = {\n",
    "    \"GradientBoostingClassifier__loss\":[\"deviance\"],\n",
    "    \"GradientBoostingClassifier__learning_rate\": [0.01, 0.025, 0.05, 0.075, 0.1, 0.15, 0.2],\n",
    "    \"GradientBoostingClassifier__min_samples_split\": np.linspace(0.1, 0.5, 12),\n",
    "    \"GradientBoostingClassifier__min_samples_leaf\": np.linspace(0.1, 0.5, 12),\n",
    "    \"GradientBoostingClassifier__max_depth\":[3,5,8],\n",
    "    \"GradientBoostingClassifier__max_features\":[\"log2\",\"sqrt\"],\n",
    "    \"GradientBoostingClassifier__criterion\": [\"friedman_mse\",  \"mae\"],\n",
    "    \"GradientBoostingClassifier__subsample\":[0.5, 0.618, 0.8, 0.85, 0.9, 0.95, 1.0],\n",
    "    \"GradientBoostingClassifier__n_estimators\":[10]\n",
    "    }\"\"\"\n",
    "\n",
    "pipe = Pipeline(steps=[\n",
    "                        \n",
    "                        #('KMeans', KMeans()),\n",
    "                        #('sampling', SMOTE()),\n",
    "                        #('sampling', ADASYN()),\n",
    "                        ('sampling', RandomUnderSampler()),\n",
    "                        ('scaler', StandardScaler()),\n",
    "                        #('feature_selection', SelectFromModel(LogisticRegression())),\n",
    "                        #('feature_selection', sfm),\n",
    "                        #('PCA', PCA()),\n",
    "                        #('feature_selection', PolynomialFeatures()),\n",
    "                        ('XGBClassifier', XGBClassifier())\n",
    "                        #('SVC', SVC()),\n",
    "                        #('RandomForestClassifier', RandomForestClassifier()),\n",
    "                        #('LogisticRegression', LogisticRegression()),\n",
    "                        #('LGBMClassifier', LGBMClassifier()),\n",
    "                        #('calibrator', calibrator()),\n",
    "                        #(\"stack\", clf_stack),\n",
    "                        #('BaggingClassifier', BaggingClassifier(LGBMClassifier())),\n",
    "                        #('ExtraTreesClassifier', ExtraTreesClassifier()),\n",
    "                        #('AdaBoostClassifier', AdaBoostClassifier()),\n",
    "                        #('GradientBoostingClassifier', GradientBoostingClassifier()),\n",
    "                        #('HistGradientBoostingClassifier', HistGradientBoostingClassifier()),\n",
    "                        #('SGDClassifier', SGDClassifier()),\n",
    "                        #('MLPClassifier', MLPClassifier(solver='lbfgs', alpha=1e-5,hidden_layer_sizes=(5, 2), random_state=1, early_stopping=True)),\n",
    "                        \n",
    "                        ])\n",
    "                        \n",
    "\n",
    "\n",
    "folds = 3\n",
    "param_comb = 100\n",
    "\n",
    "skf = StratifiedKFold(n_splits=folds, shuffle = True, random_state = 1001)\n",
    "\n",
    "random_search = RandomizedSearchCV(pipe, param_distributions=params, n_iter=param_comb, scoring='roc_auc', n_jobs=-1, cv=skf.split(X_train,y_train), verbose=3, random_state=1001 )\n",
    "\n",
    "# Here we go\n",
    "start_time = timer(None) # timing starts from this point for \"start_time\" variable\n",
    "random_search.fit(X_train, y_train)\n",
    "timer(start_time) # timing ends here for \"start_time\" variable"
   ]
  },
  {
   "cell_type": "code",
   "execution_count": 108,
   "id": "e9d9bf01",
   "metadata": {
    "scrolled": true
   },
   "outputs": [
    {
     "data": {
      "text/plain": [
       "{}"
      ]
     },
     "execution_count": 108,
     "metadata": {},
     "output_type": "execute_result"
    }
   ],
   "source": [
    "random_search.best_params_"
   ]
  },
  {
   "cell_type": "code",
   "execution_count": 124,
   "id": "516827e6",
   "metadata": {
    "scrolled": true
   },
   "outputs": [
    {
     "data": {
      "text/plain": [
       "0.7166493641318453"
      ]
     },
     "execution_count": 124,
     "metadata": {},
     "output_type": "execute_result"
    }
   ],
   "source": [
    "model = random_search.best_estimator_\n",
    "#model = calibration_clf\n",
    "y_pred = model.predict(X_test)\n",
    "score = myScore(y_pred, y_test.to_numpy()) \n",
    "score"
   ]
  },
  {
   "cell_type": "code",
   "execution_count": 125,
   "id": "29c25d19",
   "metadata": {
    "scrolled": true
   },
   "outputs": [
    {
     "name": "stdout",
     "output_type": "stream",
     "text": [
      "myScore: 0.7166493641318453\n",
      "[22:37:10] WARNING: C:/Users/Administrator/workspace/xgboost-win64_release_1.5.0/src/learner.cc:1115: Starting in XGBoost 1.3.0, the default evaluation metric used with the objective 'binary:logistic' was changed from 'error' to 'logloss'. Explicitly set eval_metric if you'd like to restore the old behavior.\n",
      "[22:37:11] WARNING: C:/Users/Administrator/workspace/xgboost-win64_release_1.5.0/src/learner.cc:1115: Starting in XGBoost 1.3.0, the default evaluation metric used with the objective 'binary:logistic' was changed from 'error' to 'logloss'. Explicitly set eval_metric if you'd like to restore the old behavior.\n",
      "[22:37:11] WARNING: C:/Users/Administrator/workspace/xgboost-win64_release_1.5.0/src/learner.cc:1115: Starting in XGBoost 1.3.0, the default evaluation metric used with the objective 'binary:logistic' was changed from 'error' to 'logloss'. Explicitly set eval_metric if you'd like to restore the old behavior.\n",
      "[22:37:11] WARNING: C:/Users/Administrator/workspace/xgboost-win64_release_1.5.0/src/learner.cc:1115: Starting in XGBoost 1.3.0, the default evaluation metric used with the objective 'binary:logistic' was changed from 'error' to 'logloss'. Explicitly set eval_metric if you'd like to restore the old behavior.\n",
      "[22:37:11] WARNING: C:/Users/Administrator/workspace/xgboost-win64_release_1.5.0/src/learner.cc:1115: Starting in XGBoost 1.3.0, the default evaluation metric used with the objective 'binary:logistic' was changed from 'error' to 'logloss'. Explicitly set eval_metric if you'd like to restore the old behavior.\n",
      "[[9076 2821]\n",
      " [ 657 1446]]\n",
      "0.7252352785085776\n"
     ]
    },
    {
     "data": {
      "image/png": "[encoded data removed]",
      "text/plain": [
       "<Figure size 432x288 with 1 Axes>"
      ]
     },
     "metadata": {
      "needs_background": "light"
     },
     "output_type": "display_data"
    }
   ],
   "source": [
    "from joblib import dump, load\n",
    "import json\n",
    "score = myScore(y_pred, y_test.to_numpy())\n",
    "print(\"myScore:\", score)\n",
    "\n",
    "cm ,report, cv_score, roc = result(model, X_test, y_test, y_pred)\n",
    "save = {}\n",
    "save[\"myScore\"] = score\n",
    "save[\"cm\"] = str(cm)\n",
    "save[\"report\"] = report\n",
    "save[\"cv_score\"] = cv_score\n",
    "save[\"roc\"] = roc\n",
    "\n",
    "print(cm)\n",
    "print(roc)\n",
    "filename = \"xgb-7166\"\n",
    "dump(model, \"output/models/new_test/\"+filename+\".joblib\") \n",
    "with open(\"log/\"+filename+'.json', 'w') as fp:\n",
    "    json.dump(save, fp)\n",
    "plt.title(filename)\n",
    "plt.savefig(\"log/img/\"+filename+'.png')"
   ]
  },
  {
   "cell_type": "code",
   "execution_count": 76,
   "id": "c31d8f92",
   "metadata": {},
   "outputs": [
    {
     "data": {
      "image/png": "[encoded data removed]",
      "text/plain": [
       "<Figure size 432x288 with 1 Axes>"
      ]
     },
     "metadata": {
      "needs_background": "light"
     },
     "output_type": "display_data"
    }
   ],
   "source": []
  },
  {
   "cell_type": "code",
   "execution_count": 117,
   "id": "e3c9073f",
   "metadata": {},
   "outputs": [],
   "source": [
    "model1 = load(\"output/models/lgbm-7747.joblib\")\n",
    "model2 = load(\"output/models/rf-7357.joblib\")\n"
   ]
  },
  {
   "cell_type": "code",
   "execution_count": 118,
   "id": "98fc66e6",
   "metadata": {},
   "outputs": [
    {
     "data": {
      "text/plain": [
       "VotingClassifier(estimators=[('m1',\n",
       "                              Pipeline(steps=[('sampling',\n",
       "                                               RandomUnderSampler()),\n",
       "                                              ('scaler', StandardScaler()),\n",
       "                                              ('LGBMClassifier',\n",
       "                                               LGBMClassifier(colsample_bytree=0.8911072339216042,\n",
       "                                                              min_child_samples=197,\n",
       "                                                              min_child_weight=10.0,\n",
       "                                                              num_leaves=41,\n",
       "                                                              reg_alpha=0.1,\n",
       "                                                              reg_lambda=0,\n",
       "                                                              subsample=0.40688973304147463))])),\n",
       "                             ('m2',\n",
       "                              Pipeline(steps=[('sampling',\n",
       "                                               RandomUnderSampler()),\n",
       "                                              ('scaler', StandardScaler()),\n",
       "                                              ('RandomForestClassifier',\n",
       "                                               RandomForestClassifier(max_depth=9,\n",
       "                                                                      n_estimators=200))]))],\n",
       "                 voting='soft')"
      ]
     },
     "execution_count": 118,
     "metadata": {},
     "output_type": "execute_result"
    }
   ],
   "source": [
    "from sklearn.svm import SVC\n",
    "from sklearn.linear_model import LogisticRegression\n",
    "from sklearn.naive_bayes import GaussianNB\n",
    "from sklearn.ensemble import RandomForestClassifier,VotingClassifier\n",
    "from sklearn.linear_model import LogisticRegression\n",
    "models = [(\"m1\", model1),(\"m2\", model2)]\n",
    "clf2 = VotingClassifier(estimators = models, voting='soft') \n",
    "clf2.fit(X_train, y_train)"
   ]
  },
  {
   "cell_type": "code",
   "execution_count": 119,
   "id": "07c93610",
   "metadata": {},
   "outputs": [
    {
     "data": {
      "text/plain": [
       "0.7676678445229682"
      ]
     },
     "execution_count": 119,
     "metadata": {},
     "output_type": "execute_result"
    }
   ],
   "source": [
    "model = clf2\n",
    "y_pred = model.predict(X_test)\n",
    "score = myScore(y_pred, y_test.to_numpy())\n",
    "score"
   ]
  },
  {
   "cell_type": "code",
   "execution_count": 120,
   "id": "990f2fda",
   "metadata": {},
   "outputs": [
    {
     "name": "stdout",
     "output_type": "stream",
     "text": [
      "myScore: 0.7676678445229682\n"
     ]
    },
    {
     "data": {
      "image/png": "[encoded data removed]",
      "text/plain": [
       "<Figure size 432x288 with 1 Axes>"
      ]
     },
     "metadata": {
      "needs_background": "light"
     },
     "output_type": "display_data"
    }
   ],
   "source": [
    "from joblib import dump, load\n",
    "import json\n",
    "score = myScore(y_pred, y_test.to_numpy())\n",
    "print(\"myScore:\", score)\n",
    "\n",
    "cm ,report, cv_score = result(model, X_test, y_test, y_pred)\n",
    "save = {}\n",
    "save[\"myScore\"] = score\n",
    "save[\"cm\"] = str(cm)\n",
    "save[\"report\"] = report\n",
    "save[\"cv_score\"] = cv_score\n",
    "\n",
    "\n",
    "filename = \"vt-7676\"\n",
    "dump(model, \"output/models/\"+filename+\".joblib\") \n",
    "with open(\"log/\"+filename+'.json', 'w') as fp:\n",
    "    json.dump(save, fp)\n",
    "plt.title(filename)\n",
    "plt.savefig(\"log/img/\"+filename+'.png')"
   ]
  },
  {
   "cell_type": "code",
   "execution_count": 110,
   "id": "61bc1358",
   "metadata": {},
   "outputs": [
    {
     "data": {
      "text/plain": [
       "BaggingClassifier(base_estimator=LogisticRegression(random_state=0),\n",
       "                  n_estimators=100, oob_score=True, random_state=90)"
      ]
     },
     "execution_count": 110,
     "metadata": {},
     "output_type": "execute_result"
    }
   ],
   "source": [
    "from sklearn.ensemble import BaggingClassifier\n",
    "logbagClf = BaggingClassifier(LogisticRegression(random_state=0, solver='lbfgs'), n_estimators = 100, oob_score = True, random_state = 90)\n",
    "logbagClf.fit(X_train, y_train)\n"
   ]
  },
  {
   "cell_type": "code",
   "execution_count": 21,
   "id": "47b7a827",
   "metadata": {},
   "outputs": [
    {
     "data": {
      "text/plain": [
       "StackingClassifier(estimators=[('lgbm', LGBMClassifier(random_state=1)),\n",
       "                               ('mlp', MLPClassifier(random_state=1))],\n",
       "                   final_estimator=SVC())"
      ]
     },
     "execution_count": 21,
     "metadata": {},
     "output_type": "execute_result"
    }
   ],
   "source": [
    "\n",
    "estimators = [\n",
    "    (\"mlp\", MLPClassifier(random_state=1)),\n",
    "    (\"lgbm\", LGBMClassifier(random_state=1)),\n",
    "    \n",
    "]\n",
    "clf_stack = StackingClassifier(estimators=estimators, final_estimator=SVC())\n",
    "clf_stack.fit(X_train, y_train)"
   ]
  },
  {
   "cell_type": "code",
   "execution_count": 22,
   "id": "83840555",
   "metadata": {},
   "outputs": [
    {
     "data": {
      "text/plain": [
       "0.6530352870813397"
      ]
     },
     "execution_count": 22,
     "metadata": {},
     "output_type": "execute_result"
    }
   ],
   "source": [
    "model = clf\n",
    "y_pred = model.predict(X_test)\n",
    "score = myScore(y_pred, y_test.to_numpy())\n",
    "score"
   ]
  },
  {
   "cell_type": "code",
   "execution_count": null,
   "id": "d9113bb2",
   "metadata": {},
   "outputs": [],
   "source": [
    "\n",
    "\n",
    "#('XGBClassifier', XGBClassifier())\n",
    "#('SVC', SVC()),\n",
    "#('RandomForestClassifier', RandomForestClassifier()),\n",
    "#('LogisticRegression', LogisticRegression()),\n",
    "#('LGBMClassifier', LGBMClassifier()),\n",
    "#('BaggingClassifier', BaggingClassifier(KNeighborsClassifier(),max_samples=0.9, max_features=0.5)),\n",
    "#('ExtraTreesClassifier', ExtraTreesClassifier()),\n",
    "#('AdaBoostClassifier', AdaBoostClassifier()),\n",
    "('GradientBoostingClassifier', GradientBoostingClassifier()),\n",
    "#('HistGradientBoostingClassifier', HistGradientBoostingClassifier()),\n",
    "#('SGDClassifier', SGDClassifier()),\n",
    "#('MLPClassifier', MLPClassifier(solver='lbfgs', alpha=1e-5,hidden_layer_sizes=(5, 2), random_state=1, early_stopping=True)),"
   ]
  },
  {
   "cell_type": "code",
   "execution_count": null,
   "id": "4b9bf7c7",
   "metadata": {},
   "outputs": [
    {
     "name": "stdout",
     "output_type": "stream",
     "text": [
      "Fitting 3 folds for each of 1 candidates, totalling 3 fits\n"
     ]
    }
   ],
   "source": [
    "from sklearn.calibration import CalibratedClassifierCV\n",
    "lr = SGDClassifier(loss='hinge',class_weight='balanced')\n",
    "clf =lr.fit(X_train, y_train)\n",
    "calibrator = CalibratedClassifierCV(clf, cv='prefit')\n",
    "\n",
    "from sklearn.model_selection import GridSearchCV\n",
    "clf1 = XGBClassifier(random_state=1)\n",
    "clf2 = SVC(random_state=1, probability=True)\n",
    "clf3 = RandomForestClassifier()\n",
    "clf4 = LGBMClassifier(random_state=1)\n",
    "clf5 = BaggingClassifier(random_state=1)\n",
    "clf6 = ExtraTreesClassifier(random_state=1)\n",
    "clf7 = LogisticRegression(random_state=1)\n",
    "clf8 = AdaBoostClassifier(random_state=1)\n",
    "clf9 = GradientBoostingClassifier(random_state=1)\n",
    "clf10 = HistGradientBoostingClassifier(random_state=1)\n",
    "clf11 = calibrator#SGDClassifier(random_state=1, class_weight='balanced', loss='hinge')\n",
    "clf12 = MLPClassifier(random_state=1)\n",
    "models = [('clf1', clf1), ('clf2', clf2),('clf3', clf3),('clf4', clf4),('clf5', clf5),('clf6', clf6),('clf7', clf7),('clf8', clf8),('clf9', clf9),('clf10', clf10),('clf11', clf11),('clf12', clf12)]\n",
    "#models = [('clf1', clf1), ('clf2', clf2),('clf3', clf3)]\n",
    "\n",
    "eclf = VotingClassifier(\n",
    "    estimators=models,\n",
    "    voting='soft'\n",
    ")\n",
    "\n",
    "#params = {'lr__C': [1.0, 100.0], 'rf__n_estimators': [20, 200]}\n",
    "\n",
    "\n",
    "grid = GridSearchCV(estimator=eclf, param_grid=params, cv=3)\n",
    "folds = 3\n",
    "param_comb = 100\n",
    "\n",
    "skf = StratifiedKFold(n_splits=folds, shuffle = True, random_state = 1001)\n",
    "\n",
    "random_search = RandomizedSearchCV(eclf, param_distributions={}, n_iter=param_comb, scoring='roc_auc', n_jobs=-1, cv=skf.split(X_train,y_train), verbose=3, random_state=1001 )\n",
    "\n",
    "# Here we go\n",
    "start_time = timer(None) # timing starts from this point for \"start_time\" variable\n",
    "random_search.fit(X_train, y_train)"
   ]
  },
  {
   "cell_type": "code",
   "execution_count": null,
   "id": "22b6ff2e",
   "metadata": {},
   "outputs": [],
   "source": [
    "model = random_search.best_estimator_\n",
    "y_pred = model.predict(X_test)\n",
    "score = myScore(y_pred, y_test.to_numpy()) \n",
    "score"
   ]
  },
  {
   "cell_type": "code",
   "execution_count": null,
   "id": "b176967e",
   "metadata": {},
   "outputs": [],
   "source": [
    "https://scikit-learn.org/stable/modules/generated/sklearn.calibration.CalibratedClassifierCV.html"
   ]
  },
  {
   "cell_type": "code",
   "execution_count": 60,
   "id": "839f4fcb",
   "metadata": {},
   "outputs": [
    {
     "data": {
      "text/plain": [
       "\"lr = SGDClassifier(loss='hinge',class_weight='balanced')\\nclf =lr.fit(X_train, y_train)\\ncalibration_clf = CalibratedClassifierCV(random_search.best_estimator_ , cv=5)\\ncalibration_clf.fit(X_train, y_train)\\n\""
      ]
     },
     "execution_count": 60,
     "metadata": {},
     "output_type": "execute_result"
    }
   ],
   "source": [
    "\"\"\"lr = SGDClassifier(loss='hinge',class_weight='balanced')\n",
    "clf =lr.fit(X_train, y_train)\n",
    "calibration_clf = CalibratedClassifierCV(random_search.best_estimator_ , cv=5)\n",
    "calibration_clf.fit(X_train, y_train)\n",
    "\"\"\""
   ]
  }
 ],
 "metadata": {
  "kernelspec": {
   "display_name": "Python 3 (ipykernel)",
   "language": "python",
   "name": "python3"
  },
  "language_info": {
   "codemirror_mode": {
    "name": "ipython",
    "version": 3
   },
   "file_extension": ".py",
   "mimetype": "text/x-python",
   "name": "python",
   "nbconvert_exporter": "python",
   "pygments_lexer": "ipython3",
   "version": "3.9.5"
  }
 },
 "nbformat": 4,
 "nbformat_minor": 5
}
