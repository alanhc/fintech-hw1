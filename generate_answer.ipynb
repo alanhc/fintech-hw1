{
 "cells": [
  {
   "cell_type": "code",
   "execution_count": 1,
   "id": "b5c66d9e",
   "metadata": {},
   "outputs": [
    {
     "name": "stdout",
     "output_type": "stream",
     "text": [
      "['output/models\\\\,lp-7169.joblib', 'output/models\\\\ada-7258.joblib', 'output/models\\\\ada-7327.joblib', 'output/models\\\\bagging-7006.joblib', 'output/models\\\\bagging-7117.joblib', 'output/models\\\\bagging-7255.joblib', 'output/models\\\\ex-7006.joblib', 'output/models\\\\gbc-7145.joblib', 'output/models\\\\gbc-7345.joblib', 'output/models\\\\hbc-7288.joblib', 'output/models\\\\hgb-7140.joblib', 'output/models\\\\lg-7191.joblib', 'output/models\\\\lg-7282.joblib', 'output/models\\\\lgbm-3896.joblib', 'output/models\\\\lgbm-455.joblib', 'output/models\\\\lgbm-6719.joblib', 'output/models\\\\lgbm-7053.joblib', 'output/models\\\\lgbm-7077.joblib', 'output/models\\\\lgbm-7211.joblib', 'output/models\\\\lgbm-7239.joblib', 'output/models\\\\lgbm-7266.joblib', 'output/models\\\\lgbm-7270.joblib', 'output/models\\\\lgbm-7291.joblib', 'output/models\\\\lgbm-7296.joblib', 'output/models\\\\lgbm-7304.joblib', 'output/models\\\\lgbm-7308.joblib', 'output/models\\\\lgbm-7334.joblib', 'output/models\\\\lgbm-7343.joblib', 'output/models\\\\lgbm-7353.joblib', 'output/models\\\\lgbm-73557.joblib', 'output/models\\\\lgbm-7382.joblib', 'output/models\\\\lgbm-7384.joblib', 'output/models\\\\lgbm-7396.joblib', 'output/models\\\\lgbm-7401.joblib', 'output/models\\\\lgbm-7405.joblib', 'output/models\\\\lgbm-7411.joblib', 'output/models\\\\lgbm-7435.joblib', 'output/models\\\\lgbm-7440.joblib', 'output/models\\\\lgbm-7445.joblib', 'output/models\\\\lgbm-7447.joblib', 'output/models\\\\lgbm-7451.joblib', 'output/models\\\\lgbm-7455.joblib', 'output/models\\\\lgbm-7478.joblib', 'output/models\\\\lgbm-7498.joblib', 'output/models\\\\lgbm-7505.joblib', 'output/models\\\\lgbm-7510.joblib', 'output/models\\\\lgbm-7513.joblib', 'output/models\\\\lgbm-7516.joblib', 'output/models\\\\lgbm-7519.joblib', 'output/models\\\\lgbm-7520.joblib', 'output/models\\\\lgbm-7527.joblib', 'output/models\\\\lgbm-7529.joblib', 'output/models\\\\lgbm-7532.joblib', 'output/models\\\\lgbm-7533.joblib', 'output/models\\\\lgbm-7537.joblib', 'output/models\\\\lgbm-7541.joblib', 'output/models\\\\lgbm-7542.joblib', 'output/models\\\\lgbm-7544.joblib', 'output/models\\\\lgbm-7546.joblib', 'output/models\\\\lgbm-7549.joblib', 'output/models\\\\lgbm-7553-best.joblib', 'output/models\\\\lgbm-7553.joblib', 'output/models\\\\lgbm-7558.joblib', 'output/models\\\\lgbm-7565.joblib', 'output/models\\\\lgbm-7572.joblib', 'output/models\\\\lgbm-7577.joblib', 'output/models\\\\lgbm-7583.joblib', 'output/models\\\\lgbm-7585.joblib', 'output/models\\\\lgbm-7590.joblib', 'output/models\\\\lgbm-7593.joblib', 'output/models\\\\lgbm-7598.joblib', 'output/models\\\\lgbm-7599.joblib', 'output/models\\\\lgbm-7602.joblib', 'output/models\\\\lgbm-7606.joblib', 'output/models\\\\lgbm-7614.joblib', 'output/models\\\\lgbm-7621.joblib', 'output/models\\\\lgbm-7626.joblib', 'output/models\\\\lgbm-7636.joblib', 'output/models\\\\lgbm-7637.joblib', 'output/models\\\\lgbm-7639.joblib', 'output/models\\\\lgbm-7642.joblib', 'output/models\\\\lgbm-7661.joblib', 'output/models\\\\lgbm-7669.joblib', 'output/models\\\\lgbm-7677.joblib', 'output/models\\\\lgbm-7679.joblib', 'output/models\\\\lgbm-7682.joblib', 'output/models\\\\lgbm-7684.joblib', 'output/models\\\\lgbm-7690.joblib', 'output/models\\\\lgbm-7703.joblib', 'output/models\\\\lgbm-7707.joblib', 'output/models\\\\lgbm-7747.joblib', 'output/models\\\\lgbm-7770.joblib', 'output/models\\\\lgbm-7780.joblib', 'output/models\\\\lgbm-7794.joblib', 'output/models\\\\lgbm-7806.joblib', 'output/models\\\\lgbm-7826.joblib', 'output/models\\\\lgbm-7837.joblib', 'output/models\\\\lgbm-7857.joblib', 'output/models\\\\mlp-7145.joblib', 'output/models\\\\mlp-7169.joblib', 'output/models\\\\mlp-7218.joblib', 'output/models\\\\rf-7185.joblib', 'output/models\\\\rf-7275.joblib', 'output/models\\\\rf-7296.joblib', 'output/models\\\\rf-7320.joblib', 'output/models\\\\rf-7326.joblib', 'output/models\\\\rf-7329.joblib', 'output/models\\\\rf-735.joblib', 'output/models\\\\rf-7351.joblib', 'output/models\\\\rf-7357.joblib', 'output/models\\\\rf-7387.joblib', 'output/models\\\\rf-7394.joblib', 'output/models\\\\rf-7406.joblib', 'output/models\\\\rf-7482.joblib', 'output/models\\\\rf-7493.joblib', 'output/models\\\\rf-7497.joblib', 'output/models\\\\rf-7502.joblib', 'output/models\\\\rf-7564.joblib', 'output/models\\\\rf-7621.joblib', 'output/models\\\\rf-7689.joblib', 'output/models\\\\rf-9252.joblib', 'output/models\\\\rf-9286.joblib', 'output/models\\\\sgd-7232.joblib', 'output/models\\\\sgd-7291.joblib', 'output/models\\\\stack-7516.joblib', 'output/models\\\\stack-7553.joblib', 'output/models\\\\stack-7837.joblib', 'output/models\\\\svc-7185.joblib', 'output/models\\\\svc-7198.joblib', 'output/models\\\\svc-7498.joblib', 'output/models\\\\svc-7522.joblib', 'output/models\\\\svm-7530.joblib', 'output/models\\\\test-6105.joblib', 'output/models\\\\test-6686.joblib', 'output/models\\\\vt-7676.joblib', 'output/models\\\\xgb-7083.joblib', 'output/models\\\\xgb-7219.joblib', 'output/models\\\\xgb-7401.joblib', 'output/models\\\\xgb-7598.joblib', 'output/models\\\\xgb-7638.joblib', 'output/models\\\\xgb-8156.joblib']\n"
     ]
    }
   ],
   "source": [
    "import pandas as pd\n",
    "import numpy as np\n",
    "from utils.data import *\n",
    "from joblib import dump, load\n",
    "import glob\n",
    "import os\n",
    "\n",
    "\n",
    "models = glob.glob(\"output/models/*.joblib\")\n",
    "print(models)\n",
    "\n",
    "df = pd.read_csv(\"ntu-fintech-hw1-new/test.csv\", index_col=[\"index\"])"
   ]
  },
  {
   "cell_type": "code",
   "execution_count": 7,
   "id": "7a883be1",
   "metadata": {},
   "outputs": [
    {
     "data": {
      "text/plain": [
       "age                               7\n",
       "euducation_level                  7\n",
       "job                               9\n",
       "marital                          11\n",
       "have_credit_card                  0\n",
       "have_housing_loan                 0\n",
       "have_personal_loan                0\n",
       "connect_method                    7\n",
       "previous_connect_month           10\n",
       "previous_connect_weekday         15\n",
       "campaign_connect_times           10\n",
       "after_campaign_connect_day        4\n",
       "before_campaign_connect_times     5\n",
       "last_campaign_outcomes            7\n",
       "employment_rate                   0\n",
       "consumer_price_index              0\n",
       "consumer_confidence_index         0\n",
       "dtype: int64"
      ]
     },
     "execution_count": 7,
     "metadata": {},
     "output_type": "execute_result"
    }
   ],
   "source": [
    "df.isna().sum()"
   ]
  },
  {
   "cell_type": "code",
   "execution_count": 8,
   "id": "0e3bf903",
   "metadata": {},
   "outputs": [
    {
     "data": {
      "text/plain": [
       "83"
      ]
     },
     "execution_count": 8,
     "metadata": {},
     "output_type": "execute_result"
    }
   ],
   "source": [
    "models.index(\"output/models\\\\lgbm-7747.joblib\")"
   ]
  },
  {
   "cell_type": "code",
   "execution_count": 5,
   "id": "2b163ead",
   "metadata": {},
   "outputs": [
    {
     "data": {
      "text/plain": [
       "Pipeline(steps=[('sampling', RandomUnderSampler()),\n",
       "                ('scaler', StandardScaler()),\n",
       "                ('LGBMClassifier',\n",
       "                 LGBMClassifier(colsample_bytree=0.9674837979515113,\n",
       "                                min_child_samples=108, min_child_weight=1e-05,\n",
       "                                num_leaves=25, reg_alpha=2, reg_lambda=20,\n",
       "                                subsample=0.23353451549708829))])"
      ]
     },
     "execution_count": 5,
     "metadata": {},
     "output_type": "execute_result"
    }
   ],
   "source": [
    "load(\"output/models\\\\lgbm-7553.joblib\")\n"
   ]
  },
  {
   "cell_type": "code",
   "execution_count": 9,
   "id": "7211a2b2",
   "metadata": {
    "scrolled": true
   },
   "outputs": [
    {
     "data": {
      "text/html": [
       "<div>\n",
       "<style scoped>\n",
       "    .dataframe tbody tr th:only-of-type {\n",
       "        vertical-align: middle;\n",
       "    }\n",
       "\n",
       "    .dataframe tbody tr th {\n",
       "        vertical-align: top;\n",
       "    }\n",
       "\n",
       "    .dataframe thead th {\n",
       "        text-align: right;\n",
       "    }\n",
       "</style>\n",
       "<table border=\"1\" class=\"dataframe\">\n",
       "  <thead>\n",
       "    <tr style=\"text-align: right;\">\n",
       "      <th></th>\n",
       "      <th>age</th>\n",
       "      <th>euducation_level</th>\n",
       "      <th>job</th>\n",
       "      <th>marital</th>\n",
       "      <th>have_credit_card</th>\n",
       "      <th>have_housing_loan</th>\n",
       "      <th>have_personal_loan</th>\n",
       "      <th>connect_method</th>\n",
       "      <th>previous_connect_month</th>\n",
       "      <th>previous_connect_weekday</th>\n",
       "      <th>campaign_connect_times</th>\n",
       "      <th>after_campaign_connect_day</th>\n",
       "      <th>before_campaign_connect_times</th>\n",
       "      <th>last_campaign_outcomes</th>\n",
       "      <th>employment_rate</th>\n",
       "      <th>consumer_price_index</th>\n",
       "      <th>consumer_confidence_index</th>\n",
       "    </tr>\n",
       "    <tr>\n",
       "      <th>index</th>\n",
       "      <th></th>\n",
       "      <th></th>\n",
       "      <th></th>\n",
       "      <th></th>\n",
       "      <th></th>\n",
       "      <th></th>\n",
       "      <th></th>\n",
       "      <th></th>\n",
       "      <th></th>\n",
       "      <th></th>\n",
       "      <th></th>\n",
       "      <th></th>\n",
       "      <th></th>\n",
       "      <th></th>\n",
       "      <th></th>\n",
       "      <th></th>\n",
       "      <th></th>\n",
       "    </tr>\n",
       "  </thead>\n",
       "  <tbody>\n",
       "    <tr>\n",
       "      <th>20000</th>\n",
       "      <td>13</td>\n",
       "      <td>2</td>\n",
       "      <td>0</td>\n",
       "      <td>2</td>\n",
       "      <td>0</td>\n",
       "      <td>0</td>\n",
       "      <td>0</td>\n",
       "      <td>1</td>\n",
       "      <td>4</td>\n",
       "      <td>1</td>\n",
       "      <td>6</td>\n",
       "      <td>1</td>\n",
       "      <td>0</td>\n",
       "      <td>1</td>\n",
       "      <td>9</td>\n",
       "      <td>23</td>\n",
       "      <td>8</td>\n",
       "    </tr>\n",
       "  </tbody>\n",
       "</table>\n",
       "</div>"
      ],
      "text/plain": [
       "       age  euducation_level  job  marital  have_credit_card  \\\n",
       "index                                                          \n",
       "20000   13                 2    0        2                 0   \n",
       "\n",
       "       have_housing_loan  have_personal_loan  connect_method  \\\n",
       "index                                                          \n",
       "20000                  0                   0               1   \n",
       "\n",
       "       previous_connect_month  previous_connect_weekday  \\\n",
       "index                                                     \n",
       "20000                       4                         1   \n",
       "\n",
       "       campaign_connect_times  after_campaign_connect_day  \\\n",
       "index                                                       \n",
       "20000                       6                           1   \n",
       "\n",
       "       before_campaign_connect_times  last_campaign_outcomes  employment_rate  \\\n",
       "index                                                                           \n",
       "20000                              0                       1                9   \n",
       "\n",
       "       consumer_price_index  consumer_confidence_index  \n",
       "index                                                   \n",
       "20000                    23                          8  "
      ]
     },
     "execution_count": 9,
     "metadata": {},
     "output_type": "execute_result"
    }
   ],
   "source": [
    "\n",
    "# preprocessing\n",
    "## NaN\n",
    "#df = fill_nan_with_mean_most(df)\n",
    "df = df.fillna(df.rolling(2, min_periods=1).sum().mean())\n",
    "#df = df.fillna(df.rolling(6,min_periods=1).mean())\n",
    "#df = df.fillna(df.rolling(50,min_periods=3).sum(std=2).mean())\n",
    "\n",
    "## label\n",
    "#df = labeling(df)\n",
    "for feature in df.columns:\n",
    "    df[feature] = labelencoder.fit_transform(df[feature])\n",
    "\n",
    "df.head(1)"
   ]
  },
  {
   "cell_type": "code",
   "execution_count": 10,
   "id": "2349ee59",
   "metadata": {},
   "outputs": [
    {
     "name": "stdout",
     "output_type": "stream",
     "text": [
      "(19099, 17)\n"
     ]
    },
    {
     "name": "stderr",
     "output_type": "stream",
     "text": [
      "C:\\Users\\alant\\miniconda3\\lib\\site-packages\\sklearn\\base.py:445: UserWarning: X does not have valid feature names, but StandardScaler was fitted with feature names\n",
      "  warnings.warn(\n"
     ]
    }
   ],
   "source": [
    "# preprocessing\n",
    "#df =  preprocessing_only_label(df)\n",
    "#df =  preprocessing_onehot(df)\n",
    "\n",
    "test_model = models[83]\n",
    "\n",
    "X_test = df\n",
    "print(X_test.shape)\n",
    "model = load(test_model)\n",
    "y_test = model.predict(X_test.to_numpy())\n",
    "ans = pd.DataFrame(X_test.index)\n",
    "ans[\"label\"] = y_test\n",
    "ans = ans.set_index(\"index\")\n",
    "save_name = \"output/models/results/\"+os.path.basename(test_model).split(\".\")[0]\n",
    "ans.to_csv(save_name+\".csv\")"
   ]
  },
  {
   "cell_type": "code",
   "execution_count": 7,
   "id": "745d5f8e",
   "metadata": {},
   "outputs": [
    {
     "data": {
      "text/plain": [
       "'lgbm-6719'"
      ]
     },
     "execution_count": 7,
     "metadata": {},
     "output_type": "execute_result"
    }
   ],
   "source": []
  },
  {
   "cell_type": "code",
   "execution_count": 19,
   "id": "8ff2c6a4",
   "metadata": {},
   "outputs": [
    {
     "data": {
      "text/plain": [
       "array([[30.,  2.,  4., ...,  0.,  1.,  0.],\n",
       "       [48.,  0.,  5., ...,  1.,  0.,  0.],\n",
       "       [52.,  2.,  1., ...,  0.,  1.,  0.],\n",
       "       ...,\n",
       "       [48.,  0.,  6., ...,  1.,  0.,  0.],\n",
       "       [31.,  2.,  6., ...,  0.,  1.,  0.],\n",
       "       [34.,  0.,  1., ...,  0.,  1.,  0.]])"
      ]
     },
     "execution_count": 19,
     "metadata": {},
     "output_type": "execute_result"
    }
   ],
   "source": [
    "X_test.to_numpy()"
   ]
  },
  {
   "cell_type": "code",
   "execution_count": 12,
   "id": "15cbc6a7",
   "metadata": {},
   "outputs": [
    {
     "name": "stderr",
     "output_type": "stream",
     "text": [
      "C:\\Users\\alant\\miniconda3\\lib\\site-packages\\sklearn\\base.py:488: FutureWarning: The feature names should match those that were passed during fit. Starting version 1.2, an error will be raised.\n",
      "Feature names unseen at fit time:\n",
      "- connect_method_cellular\n",
      "- connect_method_telephone\n",
      "- have_credit_card_no\n",
      "- have_credit_card_unknown\n",
      "- have_credit_card_yes\n",
      "- ...\n",
      "Feature names seen at fit time, yet now missing:\n",
      "- connect_method\n",
      "- have_credit_card\n",
      "- have_housing_loan\n",
      "- have_personal_loan\n",
      "- job\n",
      "- ...\n",
      "\n",
      "  warnings.warn(message, FutureWarning)\n"
     ]
    },
    {
     "ename": "ValueError",
     "evalue": "X has 32 features, but StandardScaler is expecting 17 features as input.",
     "output_type": "error",
     "traceback": [
      "\u001b[1;31m---------------------------------------------------------------------------\u001b[0m",
      "\u001b[1;31mValueError\u001b[0m                                Traceback (most recent call last)",
      "\u001b[1;32m~\\AppData\\Local\\Temp/ipykernel_25216/1337825101.py\u001b[0m in \u001b[0;36m<module>\u001b[1;34m\u001b[0m\n\u001b[0;32m      8\u001b[0m     \u001b[0mmodel\u001b[0m \u001b[1;33m=\u001b[0m \u001b[0mload\u001b[0m\u001b[1;33m(\u001b[0m\u001b[0mf\u001b[0m\u001b[1;33m)\u001b[0m\u001b[1;33m\u001b[0m\u001b[1;33m\u001b[0m\u001b[0m\n\u001b[0;32m      9\u001b[0m     \u001b[0msave_name\u001b[0m \u001b[1;33m=\u001b[0m \u001b[0mf\u001b[0m\u001b[1;33m.\u001b[0m\u001b[0mreplace\u001b[0m\u001b[1;33m(\u001b[0m\u001b[1;34m\"\\\\\"\u001b[0m\u001b[1;33m,\u001b[0m\u001b[1;34m\"\\\\output\\\\\"\u001b[0m\u001b[1;33m)\u001b[0m\u001b[1;33m.\u001b[0m\u001b[0mreplace\u001b[0m\u001b[1;33m(\u001b[0m\u001b[1;34m\".joblib\"\u001b[0m\u001b[1;33m,\u001b[0m\u001b[1;34m\"\"\u001b[0m\u001b[1;33m)\u001b[0m\u001b[1;33m\u001b[0m\u001b[1;33m\u001b[0m\u001b[0m\n\u001b[1;32m---> 10\u001b[1;33m     \u001b[0my_test\u001b[0m \u001b[1;33m=\u001b[0m \u001b[0mmodel\u001b[0m\u001b[1;33m.\u001b[0m\u001b[0mpredict\u001b[0m\u001b[1;33m(\u001b[0m\u001b[0mX_test\u001b[0m\u001b[1;33m)\u001b[0m\u001b[1;33m\u001b[0m\u001b[1;33m\u001b[0m\u001b[0m\n\u001b[0m\u001b[0;32m     11\u001b[0m     \u001b[0mans\u001b[0m \u001b[1;33m=\u001b[0m \u001b[0mpd\u001b[0m\u001b[1;33m.\u001b[0m\u001b[0mDataFrame\u001b[0m\u001b[1;33m(\u001b[0m\u001b[0mX_test\u001b[0m\u001b[1;33m.\u001b[0m\u001b[0mindex\u001b[0m\u001b[1;33m)\u001b[0m\u001b[1;33m\u001b[0m\u001b[1;33m\u001b[0m\u001b[0m\n\u001b[0;32m     12\u001b[0m     \u001b[0mans\u001b[0m\u001b[1;33m[\u001b[0m\u001b[1;34m\"label\"\u001b[0m\u001b[1;33m]\u001b[0m \u001b[1;33m=\u001b[0m \u001b[0my_test\u001b[0m\u001b[1;33m\u001b[0m\u001b[1;33m\u001b[0m\u001b[0m\n",
      "\u001b[1;32m~\\miniconda3\\lib\\site-packages\\sklearn\\utils\\metaestimators.py\u001b[0m in \u001b[0;36m<lambda>\u001b[1;34m(*args, **kwargs)\u001b[0m\n\u001b[0;32m    111\u001b[0m \u001b[1;33m\u001b[0m\u001b[0m\n\u001b[0;32m    112\u001b[0m             \u001b[1;31m# lambda, but not partial, allows help() to work with update_wrapper\u001b[0m\u001b[1;33m\u001b[0m\u001b[1;33m\u001b[0m\u001b[1;33m\u001b[0m\u001b[0m\n\u001b[1;32m--> 113\u001b[1;33m             \u001b[0mout\u001b[0m \u001b[1;33m=\u001b[0m \u001b[1;32mlambda\u001b[0m \u001b[1;33m*\u001b[0m\u001b[0margs\u001b[0m\u001b[1;33m,\u001b[0m \u001b[1;33m**\u001b[0m\u001b[0mkwargs\u001b[0m\u001b[1;33m:\u001b[0m \u001b[0mself\u001b[0m\u001b[1;33m.\u001b[0m\u001b[0mfn\u001b[0m\u001b[1;33m(\u001b[0m\u001b[0mobj\u001b[0m\u001b[1;33m,\u001b[0m \u001b[1;33m*\u001b[0m\u001b[0margs\u001b[0m\u001b[1;33m,\u001b[0m \u001b[1;33m**\u001b[0m\u001b[0mkwargs\u001b[0m\u001b[1;33m)\u001b[0m  \u001b[1;31m# noqa\u001b[0m\u001b[1;33m\u001b[0m\u001b[1;33m\u001b[0m\u001b[0m\n\u001b[0m\u001b[0;32m    114\u001b[0m         \u001b[1;32melse\u001b[0m\u001b[1;33m:\u001b[0m\u001b[1;33m\u001b[0m\u001b[1;33m\u001b[0m\u001b[0m\n\u001b[0;32m    115\u001b[0m \u001b[1;33m\u001b[0m\u001b[0m\n",
      "\u001b[1;32m~\\miniconda3\\lib\\site-packages\\sklearn\\pipeline.py\u001b[0m in \u001b[0;36mpredict\u001b[1;34m(self, X, **predict_params)\u001b[0m\n\u001b[0;32m    467\u001b[0m         \u001b[0mXt\u001b[0m \u001b[1;33m=\u001b[0m \u001b[0mX\u001b[0m\u001b[1;33m\u001b[0m\u001b[1;33m\u001b[0m\u001b[0m\n\u001b[0;32m    468\u001b[0m         \u001b[1;32mfor\u001b[0m \u001b[0m_\u001b[0m\u001b[1;33m,\u001b[0m \u001b[0mname\u001b[0m\u001b[1;33m,\u001b[0m \u001b[0mtransform\u001b[0m \u001b[1;32min\u001b[0m \u001b[0mself\u001b[0m\u001b[1;33m.\u001b[0m\u001b[0m_iter\u001b[0m\u001b[1;33m(\u001b[0m\u001b[0mwith_final\u001b[0m\u001b[1;33m=\u001b[0m\u001b[1;32mFalse\u001b[0m\u001b[1;33m)\u001b[0m\u001b[1;33m:\u001b[0m\u001b[1;33m\u001b[0m\u001b[1;33m\u001b[0m\u001b[0m\n\u001b[1;32m--> 469\u001b[1;33m             \u001b[0mXt\u001b[0m \u001b[1;33m=\u001b[0m \u001b[0mtransform\u001b[0m\u001b[1;33m.\u001b[0m\u001b[0mtransform\u001b[0m\u001b[1;33m(\u001b[0m\u001b[0mXt\u001b[0m\u001b[1;33m)\u001b[0m\u001b[1;33m\u001b[0m\u001b[1;33m\u001b[0m\u001b[0m\n\u001b[0m\u001b[0;32m    470\u001b[0m         \u001b[1;32mreturn\u001b[0m \u001b[0mself\u001b[0m\u001b[1;33m.\u001b[0m\u001b[0msteps\u001b[0m\u001b[1;33m[\u001b[0m\u001b[1;33m-\u001b[0m\u001b[1;36m1\u001b[0m\u001b[1;33m]\u001b[0m\u001b[1;33m[\u001b[0m\u001b[1;36m1\u001b[0m\u001b[1;33m]\u001b[0m\u001b[1;33m.\u001b[0m\u001b[0mpredict\u001b[0m\u001b[1;33m(\u001b[0m\u001b[0mXt\u001b[0m\u001b[1;33m,\u001b[0m \u001b[1;33m**\u001b[0m\u001b[0mpredict_params\u001b[0m\u001b[1;33m)\u001b[0m\u001b[1;33m\u001b[0m\u001b[1;33m\u001b[0m\u001b[0m\n\u001b[0;32m    471\u001b[0m \u001b[1;33m\u001b[0m\u001b[0m\n",
      "\u001b[1;32m~\\miniconda3\\lib\\site-packages\\sklearn\\preprocessing\\_data.py\u001b[0m in \u001b[0;36mtransform\u001b[1;34m(self, X, copy)\u001b[0m\n\u001b[0;32m    971\u001b[0m \u001b[1;33m\u001b[0m\u001b[0m\n\u001b[0;32m    972\u001b[0m         \u001b[0mcopy\u001b[0m \u001b[1;33m=\u001b[0m \u001b[0mcopy\u001b[0m \u001b[1;32mif\u001b[0m \u001b[0mcopy\u001b[0m \u001b[1;32mis\u001b[0m \u001b[1;32mnot\u001b[0m \u001b[1;32mNone\u001b[0m \u001b[1;32melse\u001b[0m \u001b[0mself\u001b[0m\u001b[1;33m.\u001b[0m\u001b[0mcopy\u001b[0m\u001b[1;33m\u001b[0m\u001b[1;33m\u001b[0m\u001b[0m\n\u001b[1;32m--> 973\u001b[1;33m         X = self._validate_data(\n\u001b[0m\u001b[0;32m    974\u001b[0m             \u001b[0mX\u001b[0m\u001b[1;33m,\u001b[0m\u001b[1;33m\u001b[0m\u001b[1;33m\u001b[0m\u001b[0m\n\u001b[0;32m    975\u001b[0m             \u001b[0mreset\u001b[0m\u001b[1;33m=\u001b[0m\u001b[1;32mFalse\u001b[0m\u001b[1;33m,\u001b[0m\u001b[1;33m\u001b[0m\u001b[1;33m\u001b[0m\u001b[0m\n",
      "\u001b[1;32m~\\miniconda3\\lib\\site-packages\\sklearn\\base.py\u001b[0m in \u001b[0;36m_validate_data\u001b[1;34m(self, X, y, reset, validate_separately, **check_params)\u001b[0m\n\u001b[0;32m    578\u001b[0m \u001b[1;33m\u001b[0m\u001b[0m\n\u001b[0;32m    579\u001b[0m         \u001b[1;32mif\u001b[0m \u001b[1;32mnot\u001b[0m \u001b[0mno_val_X\u001b[0m \u001b[1;32mand\u001b[0m \u001b[0mcheck_params\u001b[0m\u001b[1;33m.\u001b[0m\u001b[0mget\u001b[0m\u001b[1;33m(\u001b[0m\u001b[1;34m\"ensure_2d\"\u001b[0m\u001b[1;33m,\u001b[0m \u001b[1;32mTrue\u001b[0m\u001b[1;33m)\u001b[0m\u001b[1;33m:\u001b[0m\u001b[1;33m\u001b[0m\u001b[1;33m\u001b[0m\u001b[0m\n\u001b[1;32m--> 580\u001b[1;33m             \u001b[0mself\u001b[0m\u001b[1;33m.\u001b[0m\u001b[0m_check_n_features\u001b[0m\u001b[1;33m(\u001b[0m\u001b[0mX\u001b[0m\u001b[1;33m,\u001b[0m \u001b[0mreset\u001b[0m\u001b[1;33m=\u001b[0m\u001b[0mreset\u001b[0m\u001b[1;33m)\u001b[0m\u001b[1;33m\u001b[0m\u001b[1;33m\u001b[0m\u001b[0m\n\u001b[0m\u001b[0;32m    581\u001b[0m \u001b[1;33m\u001b[0m\u001b[0m\n\u001b[0;32m    582\u001b[0m         \u001b[1;32mreturn\u001b[0m \u001b[0mout\u001b[0m\u001b[1;33m\u001b[0m\u001b[1;33m\u001b[0m\u001b[0m\n",
      "\u001b[1;32m~\\miniconda3\\lib\\site-packages\\sklearn\\base.py\u001b[0m in \u001b[0;36m_check_n_features\u001b[1;34m(self, X, reset)\u001b[0m\n\u001b[0;32m    393\u001b[0m \u001b[1;33m\u001b[0m\u001b[0m\n\u001b[0;32m    394\u001b[0m         \u001b[1;32mif\u001b[0m \u001b[0mn_features\u001b[0m \u001b[1;33m!=\u001b[0m \u001b[0mself\u001b[0m\u001b[1;33m.\u001b[0m\u001b[0mn_features_in_\u001b[0m\u001b[1;33m:\u001b[0m\u001b[1;33m\u001b[0m\u001b[1;33m\u001b[0m\u001b[0m\n\u001b[1;32m--> 395\u001b[1;33m             raise ValueError(\n\u001b[0m\u001b[0;32m    396\u001b[0m                 \u001b[1;34mf\"X has {n_features} features, but {self.__class__.__name__} \"\u001b[0m\u001b[1;33m\u001b[0m\u001b[1;33m\u001b[0m\u001b[0m\n\u001b[0;32m    397\u001b[0m                 \u001b[1;34mf\"is expecting {self.n_features_in_} features as input.\"\u001b[0m\u001b[1;33m\u001b[0m\u001b[1;33m\u001b[0m\u001b[0m\n",
      "\u001b[1;31mValueError\u001b[0m: X has 32 features, but StandardScaler is expecting 17 features as input."
     ]
    }
   ],
   "source": [
    "# preprocessing\n",
    "#df =  preprocessing_only_label(df)\n",
    "#df =  preprocessing_onehot(df)\n",
    "X_test =  preprocessing_only_label(df)\n",
    "\n",
    "\n",
    "for f in models:\n",
    "    model = load(f)\n",
    "    save_name = f.replace(\"\\\\\",\"\\\\output\\\\\").replace(\".joblib\",\"\")\n",
    "    y_test = model.predict(X_test)\n",
    "    ans = pd.DataFrame(X_test.index)\n",
    "    ans[\"label\"] = y_test\n",
    "    ans = ans.set_index(\"index\")\n",
    "    ans.to_csv(save_name+\".csv\")"
   ]
  },
  {
   "cell_type": "markdown",
   "id": "1ed3834b",
   "metadata": {},
   "source": [
    "## test"
   ]
  },
  {
   "cell_type": "code",
   "execution_count": 55,
   "id": "71041161",
   "metadata": {},
   "outputs": [],
   "source": [
    "df = pd.read_csv(\"ntu-fintech-hw1-new/train.csv\", index_col=[\"index\"])\n",
    "df = df.fillna(df.rolling(2, min_periods=1).sum().mean())\n",
    "for feature in df.columns:\n",
    "    df[feature] = labelencoder.fit_transform(df[feature])\n",
    "X = df.drop(['label'],axis=1)\n",
    "y = df['label']"
   ]
  },
  {
   "cell_type": "code",
   "execution_count": 57,
   "id": "8e2bc51a",
   "metadata": {
    "scrolled": false
   },
   "outputs": [
    {
     "data": {
      "text/plain": [
       "Pipeline(steps=[('sampling', RandomUnderSampler()),\n",
       "                ('scaler', StandardScaler()),\n",
       "                ('LGBMClassifier',\n",
       "                 LGBMClassifier(colsample_bytree=0.5252010149451318,\n",
       "                                min_child_samples=116, min_child_weight=0.0001,\n",
       "                                num_leaves=38, reg_alpha=4, reg_lambda=15,\n",
       "                                subsample=0.15555555555555556))])"
      ]
     },
     "execution_count": 57,
     "metadata": {},
     "output_type": "execute_result"
    }
   ],
   "source": [
    "model = load(\"output/models/\"+\"1637632134\"+\"/\"+\"LGBMClassifier-744828\"+\".joblib\") \n",
    "model.fit(X, y)"
   ]
  },
  {
   "cell_type": "code",
   "execution_count": null,
   "id": "dc326036",
   "metadata": {},
   "outputs": [],
   "source": [
    "test_model = models[83]\n",
    "\n",
    "X_test = df\n",
    "print(X_test.shape)\n",
    "model = load(test_model)\n",
    "y_test = model.predict(X_test.to_numpy())\n",
    "ans = pd.DataFrame(X_test.index)\n",
    "ans[\"label\"] = y_test\n",
    "ans = ans.set_index(\"index\")\n",
    "save_name = \"output/models/results/\"+os.path.basename(test_model).split(\".\")[0]\n",
    "ans.to_csv(save_name+\".csv\")"
   ]
  }
 ],
 "metadata": {
  "kernelspec": {
   "display_name": "Python 3 (ipykernel)",
   "language": "python",
   "name": "python3"
  },
  "language_info": {
   "codemirror_mode": {
    "name": "ipython",
    "version": 3
   },
   "file_extension": ".py",
   "mimetype": "text/x-python",
   "name": "python",
   "nbconvert_exporter": "python",
   "pygments_lexer": "ipython3",
   "version": "3.9.5"
  }
 },
 "nbformat": 4,
 "nbformat_minor": 5
}
