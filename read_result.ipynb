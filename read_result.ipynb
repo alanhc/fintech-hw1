{
 "cells": [
  {
   "cell_type": "code",
   "execution_count": 71,
   "id": "3ca734f6",
   "metadata": {},
   "outputs": [],
   "source": [
    "import glob\n",
    "import json\n",
    "import os\n",
    "import numpy as np\n",
    "files = glob.glob(\"log/*.json\")\n",
    "import pandas as pd\n",
    "myScore=[]\n",
    "precision_0 = []\n",
    "precision_1 = []\n",
    "cv_score = []\n",
    "roc = []\n",
    "name = []\n",
    "for f in files:\n",
    "    with open(f) as json_file:\n",
    "        data = json.load(json_file)\n",
    "        \n",
    "        #print(f, \"\\r\")\n",
    "        roc.append(data[\"roc\"])\n",
    "        \n",
    "        myScore.append(data[\"myScore\"])\n",
    "        precision_0.append(data[\"report\"][\"0\"][\"precision\"])\n",
    "\n",
    "        precision_1.append(data[\"report\"][\"1\"][\"precision\"])\n",
    "        cv_score.append(data[\"cv_score\"])\n",
    "        \n",
    "        name.append(os.path.basename(f).split(\".\")[0])\n"
   ]
  },
  {
   "cell_type": "code",
   "execution_count": 72,
   "id": "c6f51816",
   "metadata": {},
   "outputs": [
    {
     "name": "stdout",
     "output_type": "stream",
     "text": [
      "96\n",
      "95\n",
      "106\n",
      "14\n",
      "96\n"
     ]
    }
   ],
   "source": [
    "myScore=np.array(myScore)\n",
    "precision_0 = np.array(precision_0)\n",
    "precision_1 = np.array(precision_1)\n",
    "cv_score =np.array(cv_score)\n",
    "roc = np.array(roc)\n",
    "name = np.array(name)\n",
    "print(myScore.argmax())\n",
    "print(precision_0.argmax())\n",
    "print(precision_1.argmax())\n",
    "print(cv_score.argmax())\n",
    "print(roc.argmax())"
   ]
  },
  {
   "cell_type": "code",
   "execution_count": 73,
   "id": "dd2c945f",
   "metadata": {},
   "outputs": [],
   "source": [
    "precision = []\n",
    "for i in range(len(myScore)):\n",
    "    precision.append(1*85*precision_0[i]+9*15*precision_1[i])\n",
    "precision = np.array(precision) \n",
    "precision = precision/precision.max()"
   ]
  },
  {
   "cell_type": "code",
   "execution_count": 74,
   "id": "111bf318",
   "metadata": {
    "scrolled": false
   },
   "outputs": [
    {
     "data": {
      "text/plain": [
       "array([106, 105,  14,  19,  25,  96,  95,  99,  94,  76,  51, 100,  75,\n",
       "        68,  78,  65, 111,  58,  60,  46,  74,  36,  80,  40,  63, 110,\n",
       "        72,  45,  48,  66,  44,  57,  81,  52,  69,  77,  62,  49, 109,\n",
       "        71,  67,  70,  56,  61,  47,  64,  93,  31,  23,  91,  42,  32,\n",
       "        54,  37,  30,  73,  35,  55,  50,  53,  79,  59,  21,   0,   1,\n",
       "        34,  27, 108,   6,  29,  15,  17,  13,  41,  38,   7,  22,  20,\n",
       "        83,  26,  28,  43,  84,  39, 101,   2,   3, 104, 103, 102,  12,\n",
       "        33, 107,   9,  10,  85,  86,  88,  87,  90,  18,  82,  89,  97,\n",
       "        24,  92,   8,  98,   5,  16,   4,  11], dtype=int64)"
      ]
     },
     "execution_count": 74,
     "metadata": {},
     "output_type": "execute_result"
    }
   ],
   "source": [
    "result = np.argsort(precision)[::-1]\n",
    "result"
   ]
  },
  {
   "cell_type": "code",
   "execution_count": null,
   "id": "4f3ab529",
   "metadata": {},
   "outputs": [],
   "source": []
  },
  {
   "cell_type": "code",
   "execution_count": 57,
   "id": "4e0b4b8e",
   "metadata": {},
   "outputs": [
    {
     "name": "stdout",
     "output_type": "stream",
     "text": [
      "rf-9286\n",
      "0.7797142857142857\n",
      "0.9115673772363914\n"
     ]
    }
   ],
   "source": [
    "i=96\n",
    "print(name[i])\n",
    "print(cv_score[i])\n",
    "print(roc[i])\n"
   ]
  },
  {
   "cell_type": "code",
   "execution_count": 23,
   "id": "709530b1",
   "metadata": {},
   "outputs": [
    {
     "data": {
      "text/plain": [
       "array([ 96,  95, 111,  80,  78,  76,  77,  69,  79,  94,  75,  74,  68,\n",
       "        72,  70,  71,  65,  23, 110,  66,  67,  73,  63,  60,  58,  64,\n",
       "        62,  51,  61, 109,  57,  81,  99, 100,  56,  59,  52,  54,  46,\n",
       "        48,  55,  45,  49,  53,  44,  47,  40,  36,  50,  42,  93,  37,\n",
       "        35,  91,  38,  25,  32,  43,  31,  30,  39,  34,  19, 104,  29,\n",
       "       103, 108,  27,  28,  26,  12,  33,   6,   1,  41,  21,  22,  20,\n",
       "         7,   0,  14,  17,  92,  90,  15,   3,  84,  88,  86,  83,  89,\n",
       "        87, 101,  85,  10,  24, 102,  18,   2,   9,  13, 106,  97, 107,\n",
       "        98,  82,  16,   8,   5,   4, 105,  11], dtype=int64)"
      ]
     },
     "execution_count": 23,
     "metadata": {},
     "output_type": "execute_result"
    }
   ],
   "source": [
    "result = np.argsort(roc)[::-1]\n",
    "result"
   ]
  },
  {
   "cell_type": "code",
   "execution_count": null,
   "id": "8156b76c",
   "metadata": {},
   "outputs": [],
   "source": []
  },
  {
   "cell_type": "code",
   "execution_count": null,
   "id": "904a6b99",
   "metadata": {},
   "outputs": [],
   "source": [
    "StackingClassifier"
   ]
  },
  {
   "cell_type": "code",
   "execution_count": 12,
   "id": "9402f193",
   "metadata": {},
   "outputs": [
    {
     "data": {
      "text/plain": [
       "'lgbm-7780'"
      ]
     },
     "execution_count": 12,
     "metadata": {},
     "output_type": "execute_result"
    }
   ],
   "source": [
    "name[78]"
   ]
  },
  {
   "cell_type": "code",
   "execution_count": 7,
   "id": "e2847bab",
   "metadata": {},
   "outputs": [
    {
     "data": {
      "text/plain": [
       "array([ 95,  94, 108,  79,  78,  77,  69,  76,  75,  74,  93,  23,  72,\n",
       "        71,  70,  73,  68,  67, 107,  66,  65,  64,  63,  62,  61,  60,\n",
       "        59,  58, 106,  57,  80,  56,  55,  54,  53,  52,  51,  50,  49,\n",
       "        48,  47,  46,  45,  44,  43,  42, 101,  40,  39,  38,  37,  36,\n",
       "       100,  35,  92,  91,  90,  34,  33,  12,  32,  31,  30,  29,  28,\n",
       "        26,  27, 105,  89,  25,  24,  88,   6,  41,  22,  87,   1,  86,\n",
       "        85,  21,  20,  84,  19,  97,   7,  10,  18,  17,   0,   3,  16,\n",
       "        96,  83,  15,  99,   9,  98,  82,   5,  81,   8,   2, 104,  14,\n",
       "        13,   4, 103, 102,  11], dtype=int64)"
      ]
     },
     "execution_count": 7,
     "metadata": {},
     "output_type": "execute_result"
    }
   ],
   "source": [
    "np.argsort(myScore)[::-1]"
   ]
  },
  {
   "cell_type": "code",
   "execution_count": 30,
   "id": "6bc3337c",
   "metadata": {},
   "outputs": [
    {
     "data": {
      "text/plain": [
       "array(['rf-9286'], dtype='<U10')"
      ]
     },
     "execution_count": 30,
     "metadata": {},
     "output_type": "execute_result"
    }
   ],
   "source": [
    "x = np.where(myScore == myScore.max())\n",
    "name[x]"
   ]
  },
  {
   "cell_type": "code",
   "execution_count": 105,
   "id": "8a4b6ec1",
   "metadata": {},
   "outputs": [
    {
     "data": {
      "text/plain": [
       "0.8787142857142858"
      ]
     },
     "execution_count": 105,
     "metadata": {},
     "output_type": "execute_result"
    }
   ],
   "source": [
    "cv_score = np.array(cv_score)\n",
    "\n",
    "cv_score.max()"
   ]
  },
  {
   "cell_type": "code",
   "execution_count": 106,
   "id": "d61757de",
   "metadata": {},
   "outputs": [
    {
     "data": {
      "text/plain": [
       "3"
      ]
     },
     "execution_count": 106,
     "metadata": {},
     "output_type": "execute_result"
    }
   ],
   "source": [
    "cv_score.argmax()"
   ]
  },
  {
   "cell_type": "code",
   "execution_count": 109,
   "id": "c62e3259",
   "metadata": {},
   "outputs": [
    {
     "name": "stdout",
     "output_type": "stream",
     "text": [
      "0.9237427864798021 0.6315508021390375\n"
     ]
    }
   ],
   "source": [
    "print( precision_0[3], precision_1[3] )"
   ]
  },
  {
   "cell_type": "code",
   "execution_count": 115,
   "id": "0fa06c21",
   "metadata": {},
   "outputs": [
    {
     "data": {
      "text/plain": [
       "'xgb-8156'"
      ]
     },
     "execution_count": 115,
     "metadata": {},
     "output_type": "execute_result"
    }
   ],
   "source": [
    "name[68]"
   ]
  },
  {
   "cell_type": "code",
   "execution_count": 127,
   "id": "a65018e0",
   "metadata": {
    "scrolled": true
   },
   "outputs": [
    {
     "data": {
      "text/plain": [
       "array([ 0, 52,  8, 25, 62, 49, 45, 53, 43, 51,  7, 46, 30,  6, 57, 26,  4,\n",
       "       48, 29, 50,  5, 24, 68, 47, 56,  3, 40, 15, 66, 17, 38, 59,  2, 65,\n",
       "       63, 27, 67, 60, 44, 61, 23, 42, 34, 33, 32,  1, 35, 55, 64, 69, 37,\n",
       "       10, 36, 13, 54, 22, 18, 12, 28, 58, 39, 41, 14, 70, 20, 11, 16, 21,\n",
       "       19, 31, 73,  9, 71, 74, 75, 77, 72, 76], dtype=int64)"
      ]
     },
     "execution_count": 127,
     "metadata": {},
     "output_type": "execute_result"
    }
   ],
   "source": [
    "df_analysis = pd.read_csv(\"analysis.csv\").to_numpy()\n",
    "final_score = []\n",
    "final_name = []\n",
    "for f in df_analysis:\n",
    "    _name = f[0].split(\".\")[0]\n",
    "    final_name.append(_name)\n",
    "    final_score.append(f[1])\n",
    "final_score = np.array(final_score)\n",
    "final_name = np.array(final_name)\n",
    "result = np.argsort(final_score)[::-1]\n",
    "result"
   ]
  },
  {
   "cell_type": "code",
   "execution_count": 128,
   "id": "47629dfd",
   "metadata": {
    "scrolled": true
   },
   "outputs": [
    {
     "name": "stdout",
     "output_type": "stream",
     "text": [
      "rf-7357 not found\n",
      "rf-7406 not found\n",
      "vt-7676 not found\n",
      "rf-7502 not found\n",
      "rf-7621 not found\n",
      "rf-7387 not found\n",
      "lgbm-7639 not found\n",
      "lgbm-7707 not found\n",
      "rf-7564 not found\n",
      "rf-735 not found\n",
      "svm-7530 not found\n",
      "rf-7275 not found\n",
      "lgbm-6719 not found\n"
     ]
    }
   ],
   "source": [
    "ans = []\n",
    "ans_name = []\n",
    "for _id in result[:-6]:\n",
    "    \n",
    "    f_name = final_name[_id]\n",
    "    try:\n",
    "        x = np.where(name == f_name)[0][0]\n",
    "    except:\n",
    "        print(f_name, \"not found\")\n",
    "    now = [myScore[x], roc[x]]\n",
    "    ans.append(now)\n",
    "    ans_name.append(f_name)"
   ]
  },
  {
   "cell_type": "code",
   "execution_count": 129,
   "id": "4b38a296",
   "metadata": {},
   "outputs": [
    {
     "data": {
      "text/plain": [
       "(array([66], dtype=int64),)"
      ]
     },
     "execution_count": 129,
     "metadata": {},
     "output_type": "execute_result"
    }
   ],
   "source": [
    "result = np.array(ans)\n",
    "x = np.where(result.mean(axis=1) == result.mean(axis=1).max() )\n",
    "x"
   ]
  },
  {
   "cell_type": "code",
   "execution_count": 130,
   "id": "fa72cc61",
   "metadata": {},
   "outputs": [
    {
     "data": {
      "text/plain": [
       "'rf-9286'"
      ]
     },
     "execution_count": 130,
     "metadata": {},
     "output_type": "execute_result"
    }
   ],
   "source": [
    "ans_name[66]"
   ]
  },
  {
   "cell_type": "code",
   "execution_count": 132,
   "id": "f8cd6e7c",
   "metadata": {},
   "outputs": [
    {
     "data": {
      "text/plain": [
       "array([0.92866954, 0.91156738])"
      ]
     },
     "execution_count": 132,
     "metadata": {},
     "output_type": "execute_result"
    }
   ],
   "source": [
    "result[66]"
   ]
  }
 ],
 "metadata": {
  "kernelspec": {
   "display_name": "Python 3 (ipykernel)",
   "language": "python",
   "name": "python3"
  },
  "language_info": {
   "codemirror_mode": {
    "name": "ipython",
    "version": 3
   },
   "file_extension": ".py",
   "mimetype": "text/x-python",
   "name": "python",
   "nbconvert_exporter": "python",
   "pygments_lexer": "ipython3",
   "version": "3.9.5"
  }
 },
 "nbformat": 4,
 "nbformat_minor": 5
}
