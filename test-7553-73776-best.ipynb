{
 "cells": [
  {
   "cell_type": "code",
   "execution_count": 1,
   "id": "b93f3db3",
   "metadata": {},
   "outputs": [],
   "source": [
    "import warnings\n",
    "warnings.filterwarnings('ignore')"
   ]
  },
  {
   "cell_type": "code",
   "execution_count": 3,
   "id": "39e56750",
   "metadata": {
    "scrolled": true
   },
   "outputs": [
    {
     "data": {
      "text/html": [
       "<div>\n",
       "<style scoped>\n",
       "    .dataframe tbody tr th:only-of-type {\n",
       "        vertical-align: middle;\n",
       "    }\n",
       "\n",
       "    .dataframe tbody tr th {\n",
       "        vertical-align: top;\n",
       "    }\n",
       "\n",
       "    .dataframe thead th {\n",
       "        text-align: right;\n",
       "    }\n",
       "</style>\n",
       "<table border=\"1\" class=\"dataframe\">\n",
       "  <thead>\n",
       "    <tr style=\"text-align: right;\">\n",
       "      <th></th>\n",
       "      <th>age</th>\n",
       "      <th>euducation_level</th>\n",
       "      <th>job</th>\n",
       "      <th>marital</th>\n",
       "      <th>have_credit_card</th>\n",
       "      <th>have_housing_loan</th>\n",
       "      <th>have_personal_loan</th>\n",
       "      <th>connect_method</th>\n",
       "      <th>previous_connect_month</th>\n",
       "      <th>previous_connect_weekday</th>\n",
       "      <th>campaign_connect_times</th>\n",
       "      <th>after_campaign_connect_day</th>\n",
       "      <th>before_campaign_connect_times</th>\n",
       "      <th>last_campaign_outcomes</th>\n",
       "      <th>employment_rate</th>\n",
       "      <th>consumer_price_index</th>\n",
       "      <th>consumer_confidence_index</th>\n",
       "      <th>label</th>\n",
       "    </tr>\n",
       "    <tr>\n",
       "      <th>index</th>\n",
       "      <th></th>\n",
       "      <th></th>\n",
       "      <th></th>\n",
       "      <th></th>\n",
       "      <th></th>\n",
       "      <th></th>\n",
       "      <th></th>\n",
       "      <th></th>\n",
       "      <th></th>\n",
       "      <th></th>\n",
       "      <th></th>\n",
       "      <th></th>\n",
       "      <th></th>\n",
       "      <th></th>\n",
       "      <th></th>\n",
       "      <th></th>\n",
       "      <th></th>\n",
       "      <th></th>\n",
       "    </tr>\n",
       "  </thead>\n",
       "  <tbody>\n",
       "    <tr>\n",
       "      <th>0</th>\n",
       "      <td>39.0</td>\n",
       "      <td>high</td>\n",
       "      <td>employment</td>\n",
       "      <td>married</td>\n",
       "      <td>no</td>\n",
       "      <td>no</td>\n",
       "      <td>no</td>\n",
       "      <td>cellular</td>\n",
       "      <td>November</td>\n",
       "      <td>Tuesday</td>\n",
       "      <td>1.0</td>\n",
       "      <td>-1.0</td>\n",
       "      <td>0.0</td>\n",
       "      <td>nonexistent</td>\n",
       "      <td>59.9</td>\n",
       "      <td>93.2</td>\n",
       "      <td>-42.0</td>\n",
       "      <td>0</td>\n",
       "    </tr>\n",
       "  </tbody>\n",
       "</table>\n",
       "</div>"
      ],
      "text/plain": [
       "        age euducation_level         job  marital have_credit_card  \\\n",
       "index                                                                \n",
       "0      39.0             high  employment  married               no   \n",
       "\n",
       "      have_housing_loan have_personal_loan connect_method  \\\n",
       "index                                                       \n",
       "0                    no                 no       cellular   \n",
       "\n",
       "      previous_connect_month previous_connect_weekday  campaign_connect_times  \\\n",
       "index                                                                           \n",
       "0                   November                  Tuesday                     1.0   \n",
       "\n",
       "       after_campaign_connect_day  before_campaign_connect_times  \\\n",
       "index                                                              \n",
       "0                            -1.0                            0.0   \n",
       "\n",
       "      last_campaign_outcomes  employment_rate  consumer_price_index  \\\n",
       "index                                                                 \n",
       "0                nonexistent             59.9                  93.2   \n",
       "\n",
       "       consumer_confidence_index  label  \n",
       "index                                    \n",
       "0                          -42.0      0  "
      ]
     },
     "execution_count": 3,
     "metadata": {},
     "output_type": "execute_result"
    }
   ],
   "source": [
    "import glob\n",
    "import os\n",
    "import pandas as pd\n",
    "from utils.data import *\n",
    "from utils.evaluation import *\n",
    "\n",
    "df = pd.read_csv(\"ntu-fintech-hw1-new/train.csv\", index_col=[\"index\"])\n",
    "df.head(1)"
   ]
  },
  {
   "cell_type": "code",
   "execution_count": 4,
   "id": "722d9901",
   "metadata": {},
   "outputs": [
    {
     "name": "stdout",
     "output_type": "stream",
     "text": [
      "(20000, 17) (20000,)\n"
     ]
    },
    {
     "data": {
      "text/html": [
       "<div>\n",
       "<style scoped>\n",
       "    .dataframe tbody tr th:only-of-type {\n",
       "        vertical-align: middle;\n",
       "    }\n",
       "\n",
       "    .dataframe tbody tr th {\n",
       "        vertical-align: top;\n",
       "    }\n",
       "\n",
       "    .dataframe thead th {\n",
       "        text-align: right;\n",
       "    }\n",
       "</style>\n",
       "<table border=\"1\" class=\"dataframe\">\n",
       "  <thead>\n",
       "    <tr style=\"text-align: right;\">\n",
       "      <th></th>\n",
       "      <th>age</th>\n",
       "      <th>euducation_level</th>\n",
       "      <th>job</th>\n",
       "      <th>marital</th>\n",
       "      <th>have_credit_card</th>\n",
       "      <th>have_housing_loan</th>\n",
       "      <th>have_personal_loan</th>\n",
       "      <th>connect_method</th>\n",
       "      <th>previous_connect_month</th>\n",
       "      <th>previous_connect_weekday</th>\n",
       "      <th>campaign_connect_times</th>\n",
       "      <th>after_campaign_connect_day</th>\n",
       "      <th>before_campaign_connect_times</th>\n",
       "      <th>last_campaign_outcomes</th>\n",
       "      <th>employment_rate</th>\n",
       "      <th>consumer_price_index</th>\n",
       "      <th>consumer_confidence_index</th>\n",
       "    </tr>\n",
       "    <tr>\n",
       "      <th>index</th>\n",
       "      <th></th>\n",
       "      <th></th>\n",
       "      <th></th>\n",
       "      <th></th>\n",
       "      <th></th>\n",
       "      <th></th>\n",
       "      <th></th>\n",
       "      <th></th>\n",
       "      <th></th>\n",
       "      <th></th>\n",
       "      <th></th>\n",
       "      <th></th>\n",
       "      <th></th>\n",
       "      <th></th>\n",
       "      <th></th>\n",
       "      <th></th>\n",
       "      <th></th>\n",
       "    </tr>\n",
       "  </thead>\n",
       "  <tbody>\n",
       "    <tr>\n",
       "      <th>0</th>\n",
       "      <td>21</td>\n",
       "      <td>0</td>\n",
       "      <td>0</td>\n",
       "      <td>1</td>\n",
       "      <td>0</td>\n",
       "      <td>0</td>\n",
       "      <td>0</td>\n",
       "      <td>0</td>\n",
       "      <td>7</td>\n",
       "      <td>3</td>\n",
       "      <td>0</td>\n",
       "      <td>0</td>\n",
       "      <td>0</td>\n",
       "      <td>1</td>\n",
       "      <td>7</td>\n",
       "      <td>11</td>\n",
       "      <td>7</td>\n",
       "    </tr>\n",
       "  </tbody>\n",
       "</table>\n",
       "</div>"
      ],
      "text/plain": [
       "       age  euducation_level  job  marital  have_credit_card  \\\n",
       "index                                                          \n",
       "0       21                 0    0        1                 0   \n",
       "\n",
       "       have_housing_loan  have_personal_loan  connect_method  \\\n",
       "index                                                          \n",
       "0                      0                   0               0   \n",
       "\n",
       "       previous_connect_month  previous_connect_weekday  \\\n",
       "index                                                     \n",
       "0                           7                         3   \n",
       "\n",
       "       campaign_connect_times  after_campaign_connect_day  \\\n",
       "index                                                       \n",
       "0                           0                           0   \n",
       "\n",
       "       before_campaign_connect_times  last_campaign_outcomes  employment_rate  \\\n",
       "index                                                                           \n",
       "0                                  0                       1                7   \n",
       "\n",
       "       consumer_price_index  consumer_confidence_index  \n",
       "index                                                   \n",
       "0                        11                          7  "
      ]
     },
     "execution_count": 4,
     "metadata": {},
     "output_type": "execute_result"
    }
   ],
   "source": [
    "# preprocessing\n",
    "## NaN\n",
    "#df = df.dropna(axis=0)\n",
    "df = fill_nan_with_mean_most(df)\n",
    "## label\n",
    "#df = labeling(df)\n",
    "for feature in df.columns:\n",
    "    df[feature] = labelencoder.fit_transform(df[feature])\n",
    "\n",
    "\n",
    "#df =  preprocessing_only_label(df)\n",
    "#X =  preprocessing_onehot(X)\n",
    "#df =  preprocessing_mean_mode(df)\n",
    "\n",
    "X = df.drop(['label'],axis=1)\n",
    "y = df['label']\n",
    "print(X.shape, y.shape)\n",
    "X.head(1)"
   ]
  },
  {
   "cell_type": "code",
   "execution_count": 5,
   "id": "92fdfc28",
   "metadata": {},
   "outputs": [
    {
     "name": "stdout",
     "output_type": "stream",
     "text": [
      "(16000, 17) (4000, 17) (16000,) (4000,)\n"
     ]
    },
    {
     "data": {
      "text/html": [
       "<div>\n",
       "<style scoped>\n",
       "    .dataframe tbody tr th:only-of-type {\n",
       "        vertical-align: middle;\n",
       "    }\n",
       "\n",
       "    .dataframe tbody tr th {\n",
       "        vertical-align: top;\n",
       "    }\n",
       "\n",
       "    .dataframe thead th {\n",
       "        text-align: right;\n",
       "    }\n",
       "</style>\n",
       "<table border=\"1\" class=\"dataframe\">\n",
       "  <thead>\n",
       "    <tr style=\"text-align: right;\">\n",
       "      <th></th>\n",
       "      <th>age</th>\n",
       "      <th>euducation_level</th>\n",
       "      <th>job</th>\n",
       "      <th>marital</th>\n",
       "      <th>have_credit_card</th>\n",
       "      <th>have_housing_loan</th>\n",
       "      <th>have_personal_loan</th>\n",
       "      <th>connect_method</th>\n",
       "      <th>previous_connect_month</th>\n",
       "      <th>previous_connect_weekday</th>\n",
       "      <th>campaign_connect_times</th>\n",
       "      <th>after_campaign_connect_day</th>\n",
       "      <th>before_campaign_connect_times</th>\n",
       "      <th>last_campaign_outcomes</th>\n",
       "      <th>employment_rate</th>\n",
       "      <th>consumer_price_index</th>\n",
       "      <th>consumer_confidence_index</th>\n",
       "    </tr>\n",
       "    <tr>\n",
       "      <th>index</th>\n",
       "      <th></th>\n",
       "      <th></th>\n",
       "      <th></th>\n",
       "      <th></th>\n",
       "      <th></th>\n",
       "      <th></th>\n",
       "      <th></th>\n",
       "      <th></th>\n",
       "      <th></th>\n",
       "      <th></th>\n",
       "      <th></th>\n",
       "      <th></th>\n",
       "      <th></th>\n",
       "      <th></th>\n",
       "      <th></th>\n",
       "      <th></th>\n",
       "      <th></th>\n",
       "    </tr>\n",
       "  </thead>\n",
       "  <tbody>\n",
       "    <tr>\n",
       "      <th>11873</th>\n",
       "      <td>9</td>\n",
       "      <td>0</td>\n",
       "      <td>0</td>\n",
       "      <td>2</td>\n",
       "      <td>0</td>\n",
       "      <td>2</td>\n",
       "      <td>0</td>\n",
       "      <td>0</td>\n",
       "      <td>1</td>\n",
       "      <td>4</td>\n",
       "      <td>1</td>\n",
       "      <td>0</td>\n",
       "      <td>0</td>\n",
       "      <td>1</td>\n",
       "      <td>2</td>\n",
       "      <td>0</td>\n",
       "      <td>22</td>\n",
       "    </tr>\n",
       "  </tbody>\n",
       "</table>\n",
       "</div>"
      ],
      "text/plain": [
       "       age  euducation_level  job  marital  have_credit_card  \\\n",
       "index                                                          \n",
       "11873    9                 0    0        2                 0   \n",
       "\n",
       "       have_housing_loan  have_personal_loan  connect_method  \\\n",
       "index                                                          \n",
       "11873                  2                   0               0   \n",
       "\n",
       "       previous_connect_month  previous_connect_weekday  \\\n",
       "index                                                     \n",
       "11873                       1                         4   \n",
       "\n",
       "       campaign_connect_times  after_campaign_connect_day  \\\n",
       "index                                                       \n",
       "11873                       1                           0   \n",
       "\n",
       "       before_campaign_connect_times  last_campaign_outcomes  employment_rate  \\\n",
       "index                                                                           \n",
       "11873                              0                       1                2   \n",
       "\n",
       "       consumer_price_index  consumer_confidence_index  \n",
       "index                                                   \n",
       "11873                     0                         22  "
      ]
     },
     "execution_count": 5,
     "metadata": {},
     "output_type": "execute_result"
    }
   ],
   "source": [
    "from sklearn.model_selection import train_test_split\n",
    "X_train, X_test, y_train, y_test = train_test_split(X,y,test_size=0.2)\n",
    "print(X_train.shape, X_test.shape, y_train.shape, y_test.shape)\n",
    "X_train.head(1)"
   ]
  },
  {
   "cell_type": "code",
   "execution_count": 6,
   "id": "8e3fbf42",
   "metadata": {},
   "outputs": [],
   "source": [
    "def timer(start_time=None):\n",
    "    if not start_time:\n",
    "        start_time = datetime.now()\n",
    "        return start_time\n",
    "    elif start_time:\n",
    "        thour, temp_sec = divmod((datetime.now() - start_time).total_seconds(), 3600)\n",
    "        tmin, tsec = divmod(temp_sec, 60)\n",
    "        print('\\n Time taken: %i hours %i minutes and %s seconds.' % (thour, tmin, round(tsec, 2)))\n"
   ]
  },
  {
   "cell_type": "code",
   "execution_count": 7,
   "id": "72482777",
   "metadata": {},
   "outputs": [],
   "source": [
    "X_train = X\n",
    "y_train=y"
   ]
  },
  {
   "cell_type": "code",
   "execution_count": 1,
   "id": "e1e13fc8",
   "metadata": {},
   "outputs": [
    {
     "ename": "NameError",
     "evalue": "name 'X_train' is not defined",
     "output_type": "error",
     "traceback": [
      "\u001b[1;31m---------------------------------------------------------------------------\u001b[0m",
      "\u001b[1;31mNameError\u001b[0m                                 Traceback (most recent call last)",
      "\u001b[1;32m~\\AppData\\Local\\Temp/ipykernel_22644/753759208.py\u001b[0m in \u001b[0;36m<module>\u001b[1;34m\u001b[0m\n\u001b[0;32m     72\u001b[0m \u001b[0mskf\u001b[0m \u001b[1;33m=\u001b[0m \u001b[0mStratifiedKFold\u001b[0m\u001b[1;33m(\u001b[0m\u001b[0mn_splits\u001b[0m\u001b[1;33m=\u001b[0m\u001b[0mfolds\u001b[0m\u001b[1;33m,\u001b[0m \u001b[0mshuffle\u001b[0m \u001b[1;33m=\u001b[0m \u001b[1;32mTrue\u001b[0m\u001b[1;33m,\u001b[0m \u001b[0mrandom_state\u001b[0m \u001b[1;33m=\u001b[0m \u001b[1;36m1001\u001b[0m\u001b[1;33m)\u001b[0m\u001b[1;33m\u001b[0m\u001b[1;33m\u001b[0m\u001b[0m\n\u001b[0;32m     73\u001b[0m \u001b[1;33m\u001b[0m\u001b[0m\n\u001b[1;32m---> 74\u001b[1;33m \u001b[0mrandom_search\u001b[0m \u001b[1;33m=\u001b[0m \u001b[0mRandomizedSearchCV\u001b[0m\u001b[1;33m(\u001b[0m\u001b[0mpipe\u001b[0m\u001b[1;33m,\u001b[0m \u001b[0mparam_distributions\u001b[0m\u001b[1;33m=\u001b[0m\u001b[0mparams\u001b[0m\u001b[1;33m,\u001b[0m \u001b[0mn_iter\u001b[0m\u001b[1;33m=\u001b[0m\u001b[0mparam_comb\u001b[0m\u001b[1;33m,\u001b[0m \u001b[0mscoring\u001b[0m\u001b[1;33m=\u001b[0m\u001b[1;34m'roc_auc'\u001b[0m\u001b[1;33m,\u001b[0m \u001b[0mn_jobs\u001b[0m\u001b[1;33m=\u001b[0m\u001b[1;33m-\u001b[0m\u001b[1;36m1\u001b[0m\u001b[1;33m,\u001b[0m \u001b[0mcv\u001b[0m\u001b[1;33m=\u001b[0m\u001b[0mskf\u001b[0m\u001b[1;33m.\u001b[0m\u001b[0msplit\u001b[0m\u001b[1;33m(\u001b[0m\u001b[0mX_train\u001b[0m\u001b[1;33m,\u001b[0m\u001b[0my_train\u001b[0m\u001b[1;33m)\u001b[0m\u001b[1;33m,\u001b[0m \u001b[0mverbose\u001b[0m\u001b[1;33m=\u001b[0m\u001b[1;36m3\u001b[0m\u001b[1;33m,\u001b[0m \u001b[0mrandom_state\u001b[0m\u001b[1;33m=\u001b[0m\u001b[1;36m1001\u001b[0m \u001b[1;33m)\u001b[0m\u001b[1;33m\u001b[0m\u001b[1;33m\u001b[0m\u001b[0m\n\u001b[0m\u001b[0;32m     75\u001b[0m \u001b[1;33m\u001b[0m\u001b[0m\n\u001b[0;32m     76\u001b[0m \u001b[1;31m# Here we go\u001b[0m\u001b[1;33m\u001b[0m\u001b[1;33m\u001b[0m\u001b[1;33m\u001b[0m\u001b[0m\n",
      "\u001b[1;31mNameError\u001b[0m: name 'X_train' is not defined"
     ]
    }
   ],
   "source": [
    "from xgboost import XGBClassifier\n",
    "from sklearn.model_selection import StratifiedKFold\n",
    "from sklearn.model_selection import RandomizedSearchCV, GridSearchCV\n",
    "from sklearn.svm import SVC, LinearSVC\n",
    "from datetime import datetime\n",
    "from imblearn.pipeline import Pipeline\n",
    "from imblearn.over_sampling import SMOTE\n",
    "from imblearn.under_sampling import RandomUnderSampler\n",
    "from sklearn.preprocessing import StandardScaler\n",
    "from sklearn.ensemble import RandomForestClassifier, VotingClassifier\n",
    "from lightgbm import LGBMClassifier\n",
    "from scipy.stats import randint as sp_randint\n",
    "from scipy.stats import uniform as sp_uniform\n",
    "from sklearn.feature_selection import SelectFromModel\n",
    "from sklearn.linear_model import LogisticRegression, Lasso\n",
    "params ={'LGBMClassifier__num_leaves': sp_randint(6, 50), \n",
    "             'LGBMClassifier__min_child_samples': sp_randint(100, 500), \n",
    "             'LGBMClassifier__min_child_weight': [1e-5, 1e-3, 1e-2, 1e-1, 1, 1e1, 1e2, 1e3, 1e4],\n",
    "             'LGBMClassifier__subsample': sp_uniform(loc=0.2, scale=0.9), \n",
    "             'LGBMClassifier__colsample_bytree': sp_uniform(loc=0.5, scale=0.6),\n",
    "             'LGBMClassifier__reg_alpha': [0, 1e-1, 1, 2, 5, 7, 10, 50, 100],\n",
    "             'LGBMClassifier__reg_lambda': [0, 1e-1, 1, 5, 10, 20, 50, 100]}\n",
    "\"\"\"params = {\n",
    "        'XGBClassifier__min_child_weight': [0.05, 0.1, 0.5, 1, 10],\n",
    "        'XGBClassifier__gamma': [0.01, 0.25, 0.5, 1, 1.25, 1.5, 2,3],\n",
    "        'XGBClassifier__subsample': [0.5, 0.6, 0.75, 0.8],\n",
    "        'XGBClassifier__colsample_bytree': [0.7,0.8, 0.9,1.0],\n",
    "        'XGBClassifier__max_depth': [2, 3, 4, 5, 6, 7,8],\n",
    "        'XGBClassifier__early_stopping_rounds':[10,15,20, 30],\n",
    "        'XGBClassifier__eta':[2,1.5, 1,0.75,0.5,0.25, 0.01],\n",
    "        'XGBClassifier__n_estimators':[250, 300,350, 375, 400, 450]\n",
    "        }\"\"\"\n",
    "\"\"\"params = {'SVC__kernel':['rbf'],\n",
    "              'SVC__C':[1,100,10e5], \n",
    "              'SVC__gamma':[0.1,0.01],\n",
    "             'SVC__probability':[True],\n",
    "             }\"\"\"\n",
    "\"\"\"params = { \n",
    "    'RandomForestClassifier__n_estimators': [100, 200,300, 500],\n",
    "    'RandomForestClassifier__max_features': ['auto', 'sqrt', 'log2'],\n",
    "    'RandomForestClassifier__max_depth' : [4,5,6,7,8, 9, 10],\n",
    "    'RandomForestClassifier__criterion' :['gini', 'entropy']\n",
    "}\"\"\"\n",
    "\"\"\"params = {'boosting_type': 'gbdt', 'max_depth': -1, 'objective': 'binary', \n",
    "          'num_leaves': 64, 'learning_rate': 0.05, 'max_bin': 512, \n",
    "          'subsample_for_bin': 200, 'subsample': 1, 'subsample_freq': 1,\n",
    "          'colsample_bytree': 0.8, 'reg_alpha': 5, 'reg_lambda': 10, \n",
    "          'min_split_gain': 0.5, 'min_child_weight': 1, \n",
    "          'min_child_samples': 5, 'scale_pos_weight': 1, 'num_class': 1, \n",
    "          'metric': 'binary_error'}\"\"\"\n",
    "\"\"\"params={}\"\"\"\n",
    "pipe = Pipeline(steps=[\n",
    "                        #('pca', PCA()),\n",
    "                        #('KMeans', KMeans()),\n",
    "                        #('sampling', SMOTE()),\n",
    "                        ('sampling', RandomUnderSampler()),\n",
    "                        ('scaler', StandardScaler()),\n",
    "                        #('feature_selection', SelectFromModel(LinearSVC())),\n",
    "                        #('XGBClassifier', XGBClassifier())\n",
    "                        #('SVC', SVC()),\n",
    "                        #('RandomForestClassifier', RandomForestClassifier()),\n",
    "                        #('LogisticRegression', LogisticRegression()),\n",
    "                        ('LGBMClassifier', LGBMClassifier()),\n",
    "                        ])\n",
    "                        \n",
    "\n",
    "\n",
    "folds = 3\n",
    "param_comb = 50\n",
    "\n",
    "skf = StratifiedKFold(n_splits=folds, shuffle = True, random_state = 1001)\n",
    "\n",
    "random_search = RandomizedSearchCV(pipe, param_distributions=params, n_iter=param_comb, scoring='roc_auc', n_jobs=-1, cv=skf.split(X_train,y_train), verbose=3, random_state=1001 )\n",
    "\n",
    "# Here we go\n",
    "start_time = timer(None) # timing starts from this point for \"start_time\" variable\n",
    "random_search.fit(X_train, y_train)\n",
    "timer(start_time) # timing ends here for \"start_time\" variable"
   ]
  },
  {
   "cell_type": "code",
   "execution_count": 9,
   "id": "e9d9bf01",
   "metadata": {
    "scrolled": false
   },
   "outputs": [
    {
     "data": {
      "text/plain": [
       "{}"
      ]
     },
     "execution_count": 9,
     "metadata": {},
     "output_type": "execute_result"
    }
   ],
   "source": [
    "random_search.best_params_"
   ]
  },
  {
   "cell_type": "code",
   "execution_count": 10,
   "id": "516827e6",
   "metadata": {},
   "outputs": [
    {
     "data": {
      "text/plain": [
       "0.7498861566484517"
      ]
     },
     "execution_count": 10,
     "metadata": {},
     "output_type": "execute_result"
    }
   ],
   "source": [
    "model = random_search.best_estimator_\n",
    "y_pred = model.predict(X_test)\n",
    "score = myScore(y_pred, y_test.to_numpy())\n",
    "score"
   ]
  },
  {
   "cell_type": "code",
   "execution_count": 11,
   "id": "29c25d19",
   "metadata": {},
   "outputs": [
    {
     "name": "stdout",
     "output_type": "stream",
     "text": [
      "myScore: 0.7498861566484517\n",
      "[[2780  622]\n",
      " [ 175  423]]\n",
      "0.7622621161268504\n"
     ]
    },
    {
     "data": {
      "image/png": "[encoded data removed]",
      "text/plain": [
       "<Figure size 432x288 with 1 Axes>"
      ]
     },
     "metadata": {
      "needs_background": "light"
     },
     "output_type": "display_data"
    }
   ],
   "source": [
    "from joblib import dump, load\n",
    "import json\n",
    "score = myScore(y_pred, y_test.to_numpy())\n",
    "print(\"myScore:\", score)\n",
    "\n",
    "cm ,report, cv_score, roc = result(model, X_test, y_test, y_pred)\n",
    "save = {}\n",
    "save[\"myScore\"] = score\n",
    "save[\"cm\"] = str(cm)\n",
    "save[\"report\"] = report\n",
    "save[\"cv_score\"] = cv_score\n",
    "save[\"roc\"] = roc\n",
    "\n",
    "print(cm)\n",
    "print(roc)\n",
    "filename = \"\"\n",
    "dump(model, \"output/models/\"+filename+\".joblib\") \n",
    "with open(\"log/\"+filename+'.json', 'w') as fp:\n",
    "    json.dump(save, fp)\n",
    "plt.title(filename)\n",
    "plt.savefig(\"log/img/\"+filename+'.png')"
   ]
  },
  {
   "cell_type": "code",
   "execution_count": 76,
   "id": "293ed86c",
   "metadata": {},
   "outputs": [
    {
     "data": {
      "image/png": "[encoded data removed]",
      "text/plain": [
       "<Figure size 432x288 with 1 Axes>"
      ]
     },
     "metadata": {
      "needs_background": "light"
     },
     "output_type": "display_data"
    }
   ],
   "source": []
  },
  {
   "cell_type": "code",
   "execution_count": 117,
   "id": "e3c9073f",
   "metadata": {},
   "outputs": [],
   "source": [
    "model1 = load(\"output/models/lgbm-7747.joblib\")\n",
    "model2 = load(\"output/models/rf-7357.joblib\")\n"
   ]
  },
  {
   "cell_type": "code",
   "execution_count": 118,
   "id": "98fc66e6",
   "metadata": {},
   "outputs": [
    {
     "data": {
      "text/plain": [
       "VotingClassifier(estimators=[('m1',\n",
       "                              Pipeline(steps=[('sampling',\n",
       "                                               RandomUnderSampler()),\n",
       "                                              ('scaler', StandardScaler()),\n",
       "                                              ('LGBMClassifier',\n",
       "                                               LGBMClassifier(colsample_bytree=0.8911072339216042,\n",
       "                                                              min_child_samples=197,\n",
       "                                                              min_child_weight=10.0,\n",
       "                                                              num_leaves=41,\n",
       "                                                              reg_alpha=0.1,\n",
       "                                                              reg_lambda=0,\n",
       "                                                              subsample=0.40688973304147463))])),\n",
       "                             ('m2',\n",
       "                              Pipeline(steps=[('sampling',\n",
       "                                               RandomUnderSampler()),\n",
       "                                              ('scaler', StandardScaler()),\n",
       "                                              ('RandomForestClassifier',\n",
       "                                               RandomForestClassifier(max_depth=9,\n",
       "                                                                      n_estimators=200))]))],\n",
       "                 voting='soft')"
      ]
     },
     "execution_count": 118,
     "metadata": {},
     "output_type": "execute_result"
    }
   ],
   "source": [
    "from sklearn.svm import SVC\n",
    "from sklearn.linear_model import LogisticRegression\n",
    "from sklearn.naive_bayes import GaussianNB\n",
    "from sklearn.ensemble import RandomForestClassifier,VotingClassifier\n",
    "from sklearn.linear_model import LogisticRegression\n",
    "models = [(\"m1\", model1),(\"m2\", model2)]\n",
    "clf2 = VotingClassifier(estimators = models, voting='soft') \n",
    "clf2.fit(X_train, y_train)"
   ]
  },
  {
   "cell_type": "code",
   "execution_count": 119,
   "id": "07c93610",
   "metadata": {},
   "outputs": [
    {
     "data": {
      "text/plain": [
       "0.7676678445229682"
      ]
     },
     "execution_count": 119,
     "metadata": {},
     "output_type": "execute_result"
    }
   ],
   "source": [
    "model = clf2\n",
    "y_pred = model.predict(X_test)\n",
    "score = myScore(y_pred, y_test.to_numpy())\n",
    "score"
   ]
  },
  {
   "cell_type": "code",
   "execution_count": 120,
   "id": "990f2fda",
   "metadata": {},
   "outputs": [
    {
     "name": "stdout",
     "output_type": "stream",
     "text": [
      "myScore: 0.7676678445229682\n"
     ]
    },
    {
     "data": {
      "image/png": "[encoded data removed]",
      "text/plain": [
       "<Figure size 432x288 with 1 Axes>"
      ]
     },
     "metadata": {
      "needs_background": "light"
     },
     "output_type": "display_data"
    }
   ],
   "source": [
    "from joblib import dump, load\n",
    "import json\n",
    "score = myScore(y_pred, y_test.to_numpy())\n",
    "print(\"myScore:\", score)\n",
    "\n",
    "cm ,report, cv_score = result(model, X_test, y_test, y_pred)\n",
    "save = {}\n",
    "save[\"myScore\"] = score\n",
    "save[\"cm\"] = str(cm)\n",
    "save[\"report\"] = report\n",
    "save[\"cv_score\"] = cv_score\n",
    "\n",
    "\n",
    "filename = \"vt-7676\"\n",
    "dump(model, \"output/models/\"+filename+\".joblib\") \n",
    "with open(\"log/\"+filename+'.json', 'w') as fp:\n",
    "    json.dump(save, fp)\n",
    "plt.title(filename)\n",
    "plt.savefig(\"log/img/\"+filename+'.png')"
   ]
  },
  {
   "cell_type": "code",
   "execution_count": 110,
   "id": "61bc1358",
   "metadata": {},
   "outputs": [
    {
     "data": {
      "text/plain": [
       "BaggingClassifier(base_estimator=LogisticRegression(random_state=0),\n",
       "                  n_estimators=100, oob_score=True, random_state=90)"
      ]
     },
     "execution_count": 110,
     "metadata": {},
     "output_type": "execute_result"
    }
   ],
   "source": [
    "from sklearn.ensemble import BaggingClassifier\n",
    "logbagClf = BaggingClassifier(LogisticRegression(random_state=0, solver='lbfgs'), n_estimators = 100, oob_score = True, random_state = 90)\n",
    "logbagClf.fit(X_train, y_train)\n"
   ]
  },
  {
   "cell_type": "code",
   "execution_count": 111,
   "id": "83840555",
   "metadata": {},
   "outputs": [
    {
     "data": {
      "text/plain": [
       "0.4871908127208481"
      ]
     },
     "execution_count": 111,
     "metadata": {},
     "output_type": "execute_result"
    }
   ],
   "source": [
    "model = logbagClf\n",
    "y_pred = model.predict(X_test)\n",
    "score = myScore(y_pred, y_test.to_numpy())\n",
    "score"
   ]
  }
 ],
 "metadata": {
  "kernelspec": {
   "display_name": "Python 3 (ipykernel)",
   "language": "python",
   "name": "python3"
  },
  "language_info": {
   "codemirror_mode": {
    "name": "ipython",
    "version": 3
   },
   "file_extension": ".py",
   "mimetype": "text/x-python",
   "name": "python",
   "nbconvert_exporter": "python",
   "pygments_lexer": "ipython3",
   "version": "3.9.5"
  }
 },
 "nbformat": 4,
 "nbformat_minor": 5
}
